{
    "cells": [
        {
            "cell_type": "code",
            "execution_count": 1,
            "metadata": {},
            "outputs": [
                {
                    "name": "stdout",
                    "output_type": "stream",
                    "text": "My working directory:\n/home/dsxuser/work\n"
                }
            ],
            "source": "import sys\nimport os\nfrom IPython.core.interactiveshell import InteractiveShell\nInteractiveShell.ast_node_interactivity = \"all\"\nprint(\"My working directory:\\n\" + os.getcwd())"
        },
        {
            "cell_type": "markdown",
            "metadata": {},
            "source": "# IBM Db2 database practice"
        },
        {
            "cell_type": "markdown",
            "metadata": {},
            "source": "# Introduction\n\nThis notebook illustrates how to access a DB2 database on Cloud using Python by following the steps below:\n1. Import the `ibm_db` Python library\n1. Enter the database connection credentials\n1. Create the database connection\n1. Close the database connection\n\n\n\n__Note:__ Please follow the instructions given in the first Lab of this course to Create a database service instance of Db2 on Cloud and retrieve your database Service Credentials.\n\n## Import the `ibm_db` Python library\n\nThe `ibm_db` [API ](https://pypi.python.org/pypi/ibm_db/) provides a variety of useful Python functions for accessing and manipulating data in an IBM\u00ae data server database, including functions for connecting to a database, preparing and issuing SQL statements, fetching rows from result sets, calling stored procedures, committing and rolling back transactions, handling errors, and retrieving metadata.\n\n\nWe first import the ibm_db library into our Python Application\n\nExecute the following cell by clicking within it and then \npress `Shift` and `Enter` keys simultaneously\n"
        },
        {
            "cell_type": "code",
            "execution_count": 118,
            "metadata": {},
            "outputs": [],
            "source": "import ibm_db\nimport pandas as pd"
        },
        {
            "cell_type": "markdown",
            "metadata": {},
            "source": "When the command above completes, the `ibm_db` library is loaded in your notebook. \n\n\n## Identify the database connection credentials\n\nConnecting to dashDB or DB2 database requires the following information:\n* Driver Name\n* Database name \n* Host DNS name or IP address \n* Host port\n* Connection protocol\n* User ID (or username)\n* User Password\n\n\n\n__Notice:__ To obtain credentials please refer to the instructions given in the first Lab of this course\n\nNow enter your database credentials below and execute the cell with `Shift` + `Enter`\n"
        },
        {
            "cell_type": "code",
            "execution_count": 13,
            "metadata": {},
            "outputs": [],
            "source": "#Replace the placeholder values with your actual Db2 hostname, username, and password:\ndsn_hostname = \"dashdb-txn-sbox-yp-dal09-03.services.dal.bluemix.net\" # e.g.: \"dashdb-txn-sbox-yp-dal09-04.services.dal.bluemix.net\"\ndsn_uid = \"xks76134\"        # e.g. \"abc12345\"\ndsn_pwd = \"npglfs0j-k5sx39v\"      # e.g. \"7dBZ3wWt9XN6$o0J\"\n\ndsn_driver = \"{IBM DB2 ODBC DRIVER}\"\ndsn_database = \"BLUDB\"            # e.g. \"BLUDB\"\ndsn_port = \"50000\"                # e.g. \"50000\" \ndsn_protocol = \"TCPIP\"            # i.e. \"TCPIP\""
        },
        {
            "cell_type": "code",
            "execution_count": 14,
            "metadata": {},
            "outputs": [
                {
                    "name": "stdout",
                    "output_type": "stream",
                    "text": "DRIVER={IBM DB2 ODBC DRIVER};DATABASE=BLUDB;HOSTNAME=dashdb-txn-sbox-yp-dal09-03.services.dal.bluemix.net;PORT=50000;PROTOCOL=TCPIP;UID=xks76134;PWD=npglfs0j-k5sx39v;\n"
                }
            ],
            "source": "#DO NOT MODIFY THIS CELL. Just RUN it with Shift + Enter\n#Create the dsn connection string\ndsn = (\n    \"DRIVER={0};\"\n    \"DATABASE={1};\"\n    \"HOSTNAME={2};\"\n    \"PORT={3};\"\n    \"PROTOCOL={4};\"\n    \"UID={5};\"\n    \"PWD={6};\").format(dsn_driver, dsn_database, dsn_hostname, dsn_port, dsn_protocol, dsn_uid, dsn_pwd)\n\n#print the connection string to check correct values are specified\nprint(dsn)"
        },
        {
            "cell_type": "code",
            "execution_count": 15,
            "metadata": {},
            "outputs": [
                {
                    "name": "stdout",
                    "output_type": "stream",
                    "text": "Connected to database:  BLUDB as user:  xks76134 on host:  dashdb-txn-sbox-yp-dal09-03.services.dal.bluemix.net\n"
                }
            ],
            "source": "#DO NOT MODIFY THIS CELL. Just RUN it with Shift + Enter\n#Create database connection\n\ntry:\n    conn = ibm_db.connect(dsn, \"\", \"\")\n    print (\"Connected to database: \", dsn_database, \"as user: \", dsn_uid, \"on host: \", dsn_hostname)\n\nexcept:\n    print (\"Unable to connect: \", ibm_db.conn_errormsg() )"
        },
        {
            "cell_type": "code",
            "execution_count": 16,
            "metadata": {},
            "outputs": [
                {
                    "name": "stdout",
                    "output_type": "stream",
                    "text": "DBMS_NAME:  DB2/LINUXX8664\nDBMS_VER:   11.01.0404\nDB_NAME:    BLUDB\n"
                }
            ],
            "source": "#Retrieve Metadata for the Database Server\nserver = ibm_db.server_info(conn)\n\nprint (\"DBMS_NAME: \", server.DBMS_NAME)\nprint (\"DBMS_VER:  \", server.DBMS_VER)\nprint (\"DB_NAME:   \", server.DB_NAME)"
        },
        {
            "cell_type": "code",
            "execution_count": 17,
            "metadata": {},
            "outputs": [
                {
                    "name": "stdout",
                    "output_type": "stream",
                    "text": "DRIVER_NAME:           libdb2.a\nDRIVER_VER:            11.01.0303\nDATA_SOURCE_NAME:      BLUDB\nDRIVER_ODBC_VER:       03.51\nODBC_VER:              03.01.0000\nODBC_SQL_CONFORMANCE:  EXTENDED\nAPPL_CODEPAGE:         1208\nCONN_CODEPAGE:         1208\n"
                }
            ],
            "source": "#Retrieve Metadata for the Database Client / Driver\nclient = ibm_db.client_info(conn)\n\nprint (\"DRIVER_NAME:          \", client.DRIVER_NAME) \nprint (\"DRIVER_VER:           \", client.DRIVER_VER)\nprint (\"DATA_SOURCE_NAME:     \", client.DATA_SOURCE_NAME)\nprint (\"DRIVER_ODBC_VER:      \", client.DRIVER_ODBC_VER)\nprint (\"ODBC_VER:             \", client.ODBC_VER)\nprint (\"ODBC_SQL_CONFORMANCE: \", client.ODBC_SQL_CONFORMANCE)\nprint (\"APPL_CODEPAGE:        \", client.APPL_CODEPAGE)\nprint (\"CONN_CODEPAGE:        \", client.CONN_CODEPAGE)"
        },
        {
            "cell_type": "markdown",
            "metadata": {},
            "source": "## Close the Connection\nWe free all resources by closing the connection. Remember that it is always important to close connections so that we can avoid unused connections taking up resources."
        },
        {
            "cell_type": "code",
            "execution_count": 18,
            "metadata": {},
            "outputs": [
                {
                    "data": {
                        "text/plain": "True"
                    },
                    "execution_count": 18,
                    "metadata": {},
                    "output_type": "execute_result"
                }
            ],
            "source": "ibm_db.close(conn)"
        },
        {
            "cell_type": "markdown",
            "metadata": {},
            "source": "# Introduction\n\nThis notebook illustrates how to access your database instance using Python by following the steps below:\n1. Import the `ibm_db` Python library\n1. Identify and enter the database connection credentials\n1. Create the database connection\n1. Create a table\n1. Insert data into the table\n1. Query data from the table\n1. Retrieve the result set into a pandas dataframe\n1. Close the database connection\n\n\n__Notice:__ Please follow the instructions given in the first Lab of this course to Create a database service instance of Db2 on Cloud.\n\n## Task 1: Import the `ibm_db` Python library\n\nThe `ibm_db` [API ](https://pypi.python.org/pypi/ibm_db/) provides a variety of useful Python functions for accessing and manipulating data in an IBM\u00ae data server database, including functions for connecting to a database, preparing and issuing SQL statements, fetching rows from result sets, calling stored procedures, committing and rolling back transactions, handling errors, and retrieving metadata.\n\n\nWe import the ibm_db library into our Python Application\n"
        },
        {
            "cell_type": "code",
            "execution_count": 3,
            "metadata": {},
            "outputs": [],
            "source": "#Replace the placeholder values with your actual Db2 hostname, username, and password:\ndsn_hostname = \"dashdb-txn-sbox-yp-dal09-03.services.dal.bluemix.net\" # e.g.: \"dashdb-txn-sbox-yp-dal09-04.services.dal.bluemix.net\"\ndsn_uid = \"xks76134\"        # e.g. \"abc12345\"\ndsn_pwd = \"npglfs0j-k5sx39v\"      # e.g. \"7dBZ3wWt9XN6$o0J\"\n\ndsn_driver = \"{IBM DB2 ODBC DRIVER}\"\ndsn_database = \"BLUDB\"            # e.g. \"BLUDB\"\ndsn_port = \"50000\"                # e.g. \"50000\" \ndsn_protocol = \"TCPIP\"            # i.e. \"TCPIP\""
        },
        {
            "cell_type": "code",
            "execution_count": 4,
            "metadata": {},
            "outputs": [
                {
                    "name": "stdout",
                    "output_type": "stream",
                    "text": "Connected to database:  BLUDB as user:  xks76134 on host:  dashdb-txn-sbox-yp-dal09-03.services.dal.bluemix.net\n"
                }
            ],
            "source": "#DO NOT MODIFY THIS CELL. Just RUN it with Shift + Enter\n#Create the dsn connection string\ndsn = (\n    \"DRIVER={0};\"\n    \"DATABASE={1};\"\n    \"HOSTNAME={2};\"\n    \"PORT={3};\"\n    \"PROTOCOL={4};\"\n    \"UID={5};\"\n    \"PWD={6};\").format(dsn_driver, dsn_database, dsn_hostname, dsn_port, dsn_protocol, dsn_uid, dsn_pwd)\n\ntry:\n    conn = ibm_db.connect(dsn, \"\", \"\")\n    print (\"Connected to database: \", dsn_database, \"as user: \", dsn_uid, \"on host: \", dsn_hostname)\n\nexcept:\n    print (\"Unable to connect: \", ibm_db.conn_errormsg() )"
        },
        {
            "cell_type": "markdown",
            "metadata": {},
            "source": "## Task 4: Create a table in the database\n\nIn this step we will create a table in the database with following details:\n\n<img src = \"https://ibm.box.com/shared/static/ztd2cn4xkdoj5erlk4hhng39kbp63s1h.jpg\" align=\"center\">\n"
        },
        {
            "cell_type": "code",
            "execution_count": 11,
            "metadata": {},
            "outputs": [],
            "source": "#Lets first drop the table INSTRUCTOR in case it exists from a previous attempt\ndropQuery = \"drop table INSTRUCTOR\"\n\n#Now execute the drop statment\ndropStmt = ibm_db.exec_immediate(conn, dropQuery)"
        },
        {
            "cell_type": "markdown",
            "metadata": {},
            "source": "## Dont worry if you get this error:\nIf you see an exception/error similar to the following, indicating that INSTRUCTOR is an undefined name, that's okay. It just implies that the INSTRUCTOR table does not exist in the table - which would be the case if you had not created it previously.\n\nException: [IBM][CLI Driver][DB2/LINUXX8664] SQL0204N  \"ABC12345.INSTRUCTOR\" is an undefined name.  SQLSTATE=42704 SQLCODE=-204"
        },
        {
            "cell_type": "code",
            "execution_count": 12,
            "metadata": {},
            "outputs": [],
            "source": "#Construct the Create Table DDL statement - replace the ... with rest of the statement\ncreateQuery = '''create table INSTRUCTOR(id INTEGER PRIMARY KEY NOT NULL, \n                                            FNAME VARCHAR(20), \n                                            LNAME VARCHAR(20), \n                                            CITY VARCHAR(20), \n                                            CCODE CHAR(2))'''\n\n#Now fill in the name of the method and execute the statement\ncreateStmt = ibm_db.exec_immediate(conn,createQuery)"
        },
        {
            "cell_type": "markdown",
            "metadata": {},
            "source": "## Task 5: Insert data into the table\n\nIn this step we will insert some rows of data into the table. \n\nThe INSTRUCTOR table we created in the previous step contains 3 rows of data:\n\n<img src=\"https://ibm.box.com/shared/static/j5yjassxefrjknivfpekj7698dqe4d8i.jpg\" align=\"center\">\n\nWe will start by inserting just the first row of data, i.e. for instructor Rav Ahuja \n"
        },
        {
            "cell_type": "code",
            "execution_count": 30,
            "metadata": {},
            "outputs": [
                {
                    "ename": "Exception",
                    "evalue": "Connection is not active",
                    "output_type": "error",
                    "traceback": [
                        "\u001b[0;31m---------------------------------------------------------------------------\u001b[0m",
                        "\u001b[0;31mException\u001b[0m                                 Traceback (most recent call last)",
                        "\u001b[0;32m<ipython-input-30-f063543bf3f7>\u001b[0m in \u001b[0;36m<module>\u001b[0;34m\u001b[0m\n\u001b[1;32m      5\u001b[0m \u001b[0;34m\u001b[0m\u001b[0m\n\u001b[1;32m      6\u001b[0m \u001b[0;31m#execute the insert statement\u001b[0m\u001b[0;34m\u001b[0m\u001b[0;34m\u001b[0m\u001b[0;34m\u001b[0m\u001b[0m\n\u001b[0;32m----> 7\u001b[0;31m \u001b[0minsertStmt\u001b[0m \u001b[0;34m=\u001b[0m \u001b[0mibm_db\u001b[0m\u001b[0;34m.\u001b[0m\u001b[0mexec_immediate\u001b[0m\u001b[0;34m(\u001b[0m\u001b[0mconn\u001b[0m\u001b[0;34m,\u001b[0m \u001b[0minsertQuery\u001b[0m\u001b[0;34m)\u001b[0m\u001b[0;34m\u001b[0m\u001b[0;34m\u001b[0m\u001b[0m\n\u001b[0m",
                        "\u001b[0;31mException\u001b[0m: Connection is not active"
                    ]
                }
            ],
            "source": "#Construct the query - replace ... with the insert statement\ninsertQuery = '''insert into INSTRUCTOR values (1, 'Rav', 'Ahuja', 'TORONTO', 'CA'),\n                                                (2, 'Raul', 'Chong', 'Markham', 'CA'),\n                                                (3, 'Hima', 'Vasudevan', 'Chicago', 'US')'''\n\n#execute the insert statement\ninsertStmt = ibm_db.exec_immediate(conn, insertQuery)"
        },
        {
            "cell_type": "markdown",
            "metadata": {},
            "source": "## Task 6: Query data in the table\n\nIn this step we will retrieve data we inserted into the INSTRUCTOR table. "
        },
        {
            "cell_type": "code",
            "execution_count": 18,
            "metadata": {},
            "outputs": [
                {
                    "data": {
                        "text/plain": "{'ID': 1,\n 0: 1,\n 'FNAME': 'Rav',\n 1: 'Rav',\n 'LNAME': 'Ahuja',\n 2: 'Ahuja',\n 'CITY': 'TORONTO',\n 3: 'TORONTO',\n 'CCODE': 'CA',\n 4: 'CA'}"
                    },
                    "execution_count": 18,
                    "metadata": {},
                    "output_type": "execute_result"
                }
            ],
            "source": "#Construct the query that retrieves all rows from the INSTRUCTOR table\nselectQuery = \"select * from INSTRUCTOR\"\n\n#Execute the statement\nselectStmt = ibm_db.exec_immediate(conn, selectQuery)\n\n#Fetch the Dictionary (for the first row only) - replace ... with your code\nibm_db.fetch_both(selectStmt)"
        },
        {
            "cell_type": "code",
            "execution_count": 29,
            "metadata": {},
            "outputs": [],
            "source": "#Fetch the rest of the rows and print the ID and FNAME for those rows\nwhile ibm_db.fetch_row(selectStmt) != False:\n   print (\" ID:\",  ibm_db.result(selectStmt, 0), \" FNAME:\",  ibm_db.result(selectStmt, \"FNAME\"))"
        },
        {
            "cell_type": "markdown",
            "metadata": {},
            "source": "Bonus: now write and execute an update statement that changes the Rav's CITY to MOOSETOWN "
        },
        {
            "cell_type": "code",
            "execution_count": 20,
            "metadata": {},
            "outputs": [],
            "source": "updateQuery = \"update INSTRUCTOR set CITY='MOOSETOWN' where FNAME='Rav'\"\nupdateStmt = ibm_db.exec_immediate(conn, updateQuery)"
        },
        {
            "cell_type": "markdown",
            "metadata": {},
            "source": "## Task 7: Retrieve data into Pandas \n\nIn this step we will retrieve the contents of the INSTRUCTOR table into a Pandas dataframe"
        },
        {
            "cell_type": "code",
            "execution_count": 21,
            "metadata": {},
            "outputs": [],
            "source": "import pandas\nimport ibm_db_dbi"
        },
        {
            "cell_type": "code",
            "execution_count": 27,
            "metadata": {},
            "outputs": [
                {
                    "data": {
                        "text/plain": "True"
                    },
                    "execution_count": 27,
                    "metadata": {},
                    "output_type": "execute_result"
                }
            ],
            "source": "#connection for pandas\npconn = ibm_db_dbi.Connection(conn)\n\n#query statement to retrieve all rows in INSTRUCTOR table\nselectQuery = \"select * from INSTRUCTOR\"\n\n#retrieve the query results into a pandas dataframe\npdf = pandas.read_sql(selectQuery, pconn)\n\nibm_db.close(conn)"
        },
        {
            "cell_type": "code",
            "execution_count": 28,
            "metadata": {},
            "outputs": [
                {
                    "data": {
                        "text/html": "<div>\n<style scoped>\n    .dataframe tbody tr th:only-of-type {\n        vertical-align: middle;\n    }\n\n    .dataframe tbody tr th {\n        vertical-align: top;\n    }\n\n    .dataframe thead th {\n        text-align: right;\n    }\n</style>\n<table border=\"1\" class=\"dataframe\">\n  <thead>\n    <tr style=\"text-align: right;\">\n      <th></th>\n      <th>ID</th>\n      <th>FNAME</th>\n      <th>LNAME</th>\n      <th>CITY</th>\n      <th>CCODE</th>\n    </tr>\n  </thead>\n  <tbody>\n    <tr>\n      <th>0</th>\n      <td>1</td>\n      <td>Rav</td>\n      <td>Ahuja</td>\n      <td>MOOSETOWN</td>\n      <td>CA</td>\n    </tr>\n    <tr>\n      <th>1</th>\n      <td>2</td>\n      <td>Raul</td>\n      <td>Chong</td>\n      <td>Markham</td>\n      <td>CA</td>\n    </tr>\n    <tr>\n      <th>2</th>\n      <td>3</td>\n      <td>Hima</td>\n      <td>Vasudevan</td>\n      <td>Chicago</td>\n      <td>US</td>\n    </tr>\n  </tbody>\n</table>\n</div>",
                        "text/plain": "   ID FNAME      LNAME       CITY CCODE\n0   1   Rav      Ahuja  MOOSETOWN    CA\n1   2  Raul      Chong    Markham    CA\n2   3  Hima  Vasudevan    Chicago    US"
                    },
                    "execution_count": 28,
                    "metadata": {},
                    "output_type": "execute_result"
                },
                {
                    "data": {
                        "text/plain": "(3, 5)"
                    },
                    "execution_count": 28,
                    "metadata": {},
                    "output_type": "execute_result"
                }
            ],
            "source": "pdf\npdf.shape"
        },
        {
            "cell_type": "markdown",
            "metadata": {},
            "source": "# Accessing Databases with SQL Magic"
        },
        {
            "cell_type": "markdown",
            "metadata": {},
            "source": "#### After using this notebook, you will know how to perform simplified database access using SQL \"magic\". You will connect to a Db2 database, issue SQL commands to create tables, insert data, and run queries, as well as retrieve results in a Python dataframe. "
        },
        {
            "cell_type": "markdown",
            "metadata": {},
            "source": "##### To communicate with SQL Databases from within a JupyterLab notebook, we can use the SQL \"magic\" provided by the [ipython-sql](https://github.com/catherinedevlin/ipython-sql) extension. \"Magic\" is JupyterLab's term for special commands that start with \"%\". Below, we'll use the _load_\\__ext_ magic to load the ipython-sql extension. In the lab environemnt provided in the course the ipython-sql extension is already installed and so is the ibm_db_sa driver. "
        },
        {
            "cell_type": "code",
            "execution_count": 37,
            "metadata": {},
            "outputs": [
                {
                    "name": "stdout",
                    "output_type": "stream",
                    "text": "Collecting ipython-sql\n  Downloading https://files.pythonhosted.org/packages/ab/df/427e7cf05ffc67e78672ad57dce2436c1e825129033effe6fcaf804d0c60/ipython_sql-0.3.9-py2.py3-none-any.whl\nRequirement already satisfied: ipython>=1.0 in /opt/conda/envs/Python36/lib/python3.6/site-packages (from ipython-sql) (7.2.0)\nCollecting sqlparse (from ipython-sql)\n  Downloading https://files.pythonhosted.org/packages/ef/53/900f7d2a54557c6a37886585a91336520e5539e3ae2423ff1102daf4f3a7/sqlparse-0.3.0-py2.py3-none-any.whl\nRequirement already satisfied: sqlalchemy>=0.6.7 in /opt/conda/envs/Python36/lib/python3.6/site-packages (from ipython-sql) (1.2.18)\nRequirement already satisfied: six in /opt/conda/envs/Python36/lib/python3.6/site-packages (from ipython-sql) (1.12.0)\nRequirement already satisfied: ipython-genutils>=0.1.0 in /opt/conda/envs/Python36/lib/python3.6/site-packages (from ipython-sql) (0.2.0)\nCollecting prettytable (from ipython-sql)\n  Downloading https://files.pythonhosted.org/packages/ef/30/4b0746848746ed5941f052479e7c23d2b56d174b82f4fd34a25e389831f5/prettytable-0.7.2.tar.bz2\nRequirement already satisfied: traitlets>=4.2 in /opt/conda/envs/Python36/lib/python3.6/site-packages (from ipython>=1.0->ipython-sql) (4.3.2)\nRequirement already satisfied: jedi>=0.10 in /opt/conda/envs/Python36/lib/python3.6/site-packages (from ipython>=1.0->ipython-sql) (0.13.2)\nRequirement already satisfied: prompt-toolkit<2.1.0,>=2.0.0 in /opt/conda/envs/Python36/lib/python3.6/site-packages (from ipython>=1.0->ipython-sql) (2.0.8)\nRequirement already satisfied: pickleshare in /opt/conda/envs/Python36/lib/python3.6/site-packages (from ipython>=1.0->ipython-sql) (0.7.5)\nRequirement already satisfied: pygments in /opt/conda/envs/Python36/lib/python3.6/site-packages (from ipython>=1.0->ipython-sql) (2.3.1)\nRequirement already satisfied: setuptools>=18.5 in /opt/conda/envs/Python36/lib/python3.6/site-packages (from ipython>=1.0->ipython-sql) (40.8.0)\nRequirement already satisfied: decorator in /opt/conda/envs/Python36/lib/python3.6/site-packages (from ipython>=1.0->ipython-sql) (4.3.2)\nRequirement already satisfied: backcall in /opt/conda/envs/Python36/lib/python3.6/site-packages (from ipython>=1.0->ipython-sql) (0.1.0)\nRequirement already satisfied: pexpect; sys_platform != \"win32\" in /opt/conda/envs/Python36/lib/python3.6/site-packages (from ipython>=1.0->ipython-sql) (4.6.0)\nRequirement already satisfied: parso>=0.3.0 in /opt/conda/envs/Python36/lib/python3.6/site-packages (from jedi>=0.10->ipython>=1.0->ipython-sql) (0.3.2)\nRequirement already satisfied: wcwidth in /opt/conda/envs/Python36/lib/python3.6/site-packages (from prompt-toolkit<2.1.0,>=2.0.0->ipython>=1.0->ipython-sql) (0.1.7)\nRequirement already satisfied: ptyprocess>=0.5 in /opt/conda/envs/Python36/lib/python3.6/site-packages (from pexpect; sys_platform != \"win32\"->ipython>=1.0->ipython-sql) (0.6.0)\nBuilding wheels for collected packages: prettytable\n  Building wheel for prettytable (setup.py) ... \u001b[?25ldone\n\u001b[?25h  Stored in directory: /home/dsxuser/.cache/pip/wheels/80/34/1c/3967380d9676d162cb59513bd9dc862d0584e045a162095606\nSuccessfully built prettytable\nInstalling collected packages: sqlparse, prettytable, ipython-sql\nSuccessfully installed ipython-sql-0.3.9 prettytable-0.7.2 sqlparse-0.3.0\n"
                }
            ],
            "source": "!pip install ipython-sql"
        },
        {
            "cell_type": "code",
            "execution_count": 38,
            "metadata": {},
            "outputs": [],
            "source": "%load_ext sql"
        },
        {
            "cell_type": "markdown",
            "metadata": {},
            "source": "<a ><img src = \"https://ibm.box.com/shared/static/uy78gy1uq3uj6fkvd4muzy5zcr62tb72.png\" width = 1000, align = \"center\"></a>\n  <h5 align=center>  This image shows the location of your connection string if you're using Db2 on IBM Cloud. If you're using another host the format is: username:password@hostname:port/database-name\n  </h5>"
        },
        {
            "cell_type": "markdown",
            "metadata": {},
            "source": "##### Now we have access to SQL magic. With our first SQL magic command, we'll connect to a Db2 database. However, in order to do that, you'll first need to retrieve or create your credentials to access your Db2 database."
        },
        {
            "cell_type": "code",
            "execution_count": 39,
            "metadata": {},
            "outputs": [
                {
                    "data": {
                        "text/plain": "'Connected: xks76134@BLUDB'"
                    },
                    "execution_count": 39,
                    "metadata": {},
                    "output_type": "execute_result"
                }
            ],
            "source": "# Enter your Db2 credentials in the connection string below\n# Recall you created Service Credentials in Part III of the first lab of the course in Week 1\n# i.e. from the uri field in the Service Credentials copy everything after db2:// (but remove the double quote at the end)\n# for example, if your credentials are as in the screenshot above, you would write:\n# %sql ibm_db_sa://my-username:my-password@dashdb-txn-sbox-yp-dal09-03.services.dal.bluemix.net:50000/BLUDB\n# Note the ibm_db_sa:// prefix instead of db2://\n# This is because JupyterLab's ipython-sql extension uses sqlalchemy (a python SQL toolkit)\n# which in turn uses IBM's sqlalchemy dialect: ibm_db_sa\n%sql ibm_db_sa://xks76134:npglfs0j-k5sx39v@dashdb-txn-sbox-yp-dal09-03.services.dal.bluemix.net:50000/BLUDB"
        },
        {
            "cell_type": "markdown",
            "metadata": {},
            "source": "##### For convenience, we can use %%sql (two %'s instead of one) at the top of a cell to indicate we want the entire cell to be treated as SQL. Let's use this to create a table and fill it with some test data for experimenting."
        },
        {
            "cell_type": "code",
            "execution_count": 40,
            "metadata": {},
            "outputs": [
                {
                    "name": "stdout",
                    "output_type": "stream",
                    "text": " * ibm_db_sa://xks76134:***@dashdb-txn-sbox-yp-dal09-03.services.dal.bluemix.net:50000/BLUDB\nDone.\n99 rows affected.\n"
                },
                {
                    "data": {
                        "text/plain": "[]"
                    },
                    "execution_count": 40,
                    "metadata": {},
                    "output_type": "execute_result"
                }
            ],
            "source": "%%sql\n\nCREATE TABLE INTERNATIONAL_STUDENT_TEST_SCORES (\n    country VARCHAR(50),\n    first_name VARCHAR(50),\n    last_name VARCHAR(50),\n    test_score INT\n);\nINSERT INTO INTERNATIONAL_STUDENT_TEST_SCORES (country, first_name, last_name, test_score)\nVALUES\n('United States', 'Marshall', 'Bernadot', 54),\n('Ghana', 'Celinda', 'Malkin', 51),\n('Ukraine', 'Guillermo', 'Furze', 53),\n('Greece', 'Aharon', 'Tunnow', 48),\n('Russia', 'Bail', 'Goodwin', 46),\n('Poland', 'Cole', 'Winteringham', 49),\n('Sweden', 'Emlyn', 'Erricker', 55),\n('Russia', 'Cathee', 'Sivewright', 49),\n('China', 'Barny', 'Ingerson', 57),\n('Uganda', 'Sharla', 'Papaccio', 55),\n('China', 'Stella', 'Youens', 51),\n('Poland', 'Julio', 'Buesden', 48),\n('United States', 'Tiffie', 'Cosely', 58),\n('Poland', 'Auroora', 'Stiffell', 45),\n('China', 'Clarita', 'Huet', 52),\n('Poland', 'Shannon', 'Goulden', 45),\n('Philippines', 'Emylee', 'Privost', 50),\n('France', 'Madelina', 'Burk', 49),\n('China', 'Saunderson', 'Root', 58),\n('Indonesia', 'Bo', 'Waring', 55),\n('China', 'Hollis', 'Domotor', 45),\n('Russia', 'Robbie', 'Collip', 46),\n('Philippines', 'Davon', 'Donisi', 46),\n('China', 'Cristabel', 'Radeliffe', 48),\n('China', 'Wallis', 'Bartleet', 58),\n('Moldova', 'Arleen', 'Stailey', 38),\n('Ireland', 'Mendel', 'Grumble', 58),\n('China', 'Sallyann', 'Exley', 51),\n('Mexico', 'Kain', 'Swaite', 46),\n('Indonesia', 'Alonso', 'Bulteel', 45),\n('Armenia', 'Anatol', 'Tankus', 51),\n('Indonesia', 'Coralyn', 'Dawkins', 48),\n('China', 'Deanne', 'Edwinson', 45),\n('China', 'Georgiana', 'Epple', 51),\n('Portugal', 'Bartlet', 'Breese', 56),\n('Azerbaijan', 'Idalina', 'Lukash', 50),\n('France', 'Livvie', 'Flory', 54),\n('Malaysia', 'Nonie', 'Borit', 48),\n('Indonesia', 'Clio', 'Mugg', 47),\n('Brazil', 'Westley', 'Measor', 48),\n('Philippines', 'Katrinka', 'Sibbert', 51),\n('Poland', 'Valentia', 'Mounch', 50),\n('Norway', 'Sheilah', 'Hedditch', 53),\n('Papua New Guinea', 'Itch', 'Jubb', 50),\n('Latvia', 'Stesha', 'Garnson', 53),\n('Canada', 'Cristionna', 'Wadmore', 46),\n('China', 'Lianna', 'Gatward', 43),\n('Guatemala', 'Tanney', 'Vials', 48),\n('France', 'Alma', 'Zavittieri', 44),\n('China', 'Alvira', 'Tamas', 50),\n('United States', 'Shanon', 'Peres', 45),\n('Sweden', 'Maisey', 'Lynas', 53),\n('Indonesia', 'Kip', 'Hothersall', 46),\n('China', 'Cash', 'Landis', 48),\n('Panama', 'Kennith', 'Digance', 45),\n('China', 'Ulberto', 'Riggeard', 48),\n('Switzerland', 'Judy', 'Gilligan', 49),\n('Philippines', 'Tod', 'Trevaskus', 52),\n('Brazil', 'Herold', 'Heggs', 44),\n('Latvia', 'Verney', 'Note', 50),\n('Poland', 'Temp', 'Ribey', 50),\n('China', 'Conroy', 'Egdal', 48),\n('Japan', 'Gabie', 'Alessandone', 47),\n('Ukraine', 'Devlen', 'Chaperlin', 54),\n('France', 'Babbette', 'Turner', 51),\n('Czech Republic', 'Virgil', 'Scotney', 52),\n('Tajikistan', 'Zorina', 'Bedow', 49),\n('China', 'Aidan', 'Rudeyeard', 50),\n('Ireland', 'Saunder', 'MacLice', 48),\n('France', 'Waly', 'Brunstan', 53),\n('China', 'Gisele', 'Enns', 52),\n('Peru', 'Mina', 'Winchester', 48),\n('Japan', 'Torie', 'MacShirrie', 50),\n('Russia', 'Benjamen', 'Kenford', 51),\n('China', 'Etan', 'Burn', 53),\n('Russia', 'Merralee', 'Chaperlin', 38),\n('Indonesia', 'Lanny', 'Malam', 49),\n('Canada', 'Wilhelm', 'Deeprose', 54),\n('Czech Republic', 'Lari', 'Hillhouse', 48),\n('China', 'Ossie', 'Woodley', 52),\n('Macedonia', 'April', 'Tyer', 50),\n('Vietnam', 'Madelon', 'Dansey', 53),\n('Ukraine', 'Korella', 'McNamee', 52),\n('Jamaica', 'Linnea', 'Cannam', 43),\n('China', 'Mart', 'Coling', 52),\n('Indonesia', 'Marna', 'Causbey', 47),\n('China', 'Berni', 'Daintier', 55),\n('Poland', 'Cynthia', 'Hassell', 49),\n('Canada', 'Carma', 'Schule', 49),\n('Indonesia', 'Malia', 'Blight', 48),\n('China', 'Paulo', 'Seivertsen', 47),\n('Niger', 'Kaylee', 'Hearley', 54),\n('Japan', 'Maure', 'Jandak', 46),\n('Argentina', 'Foss', 'Feavers', 45),\n('Venezuela', 'Ron', 'Leggitt', 60),\n('Russia', 'Flint', 'Gokes', 40),\n('China', 'Linet', 'Conelly', 52),\n('Philippines', 'Nikolas', 'Birtwell', 57),\n('Australia', 'Eduard', 'Leipelt', 53)\n"
        },
        {
            "cell_type": "markdown",
            "metadata": {},
            "source": "##### You can use the normal python assignment syntax to assign the results of your queries to python variables.\n##### For example, I have a SQL query to retrieve the distribution of test scores (i.e. how many students got each score). I can assign the result of this query to the variable `test_score_distribution` using the `=` operator."
        },
        {
            "cell_type": "code",
            "execution_count": 41,
            "metadata": {},
            "outputs": [
                {
                    "name": "stdout",
                    "output_type": "stream",
                    "text": " * ibm_db_sa://xks76134:***@dashdb-txn-sbox-yp-dal09-03.services.dal.bluemix.net:50000/BLUDB\nDone.\n"
                },
                {
                    "data": {
                        "text/html": "<table>\n    <tr>\n        <th>Test Score</th>\n        <th>Frequency</th>\n    </tr>\n    <tr>\n        <td>38</td>\n        <td>2</td>\n    </tr>\n    <tr>\n        <td>40</td>\n        <td>1</td>\n    </tr>\n    <tr>\n        <td>43</td>\n        <td>2</td>\n    </tr>\n    <tr>\n        <td>44</td>\n        <td>2</td>\n    </tr>\n    <tr>\n        <td>45</td>\n        <td>8</td>\n    </tr>\n    <tr>\n        <td>46</td>\n        <td>7</td>\n    </tr>\n    <tr>\n        <td>47</td>\n        <td>4</td>\n    </tr>\n    <tr>\n        <td>48</td>\n        <td>14</td>\n    </tr>\n    <tr>\n        <td>49</td>\n        <td>8</td>\n    </tr>\n    <tr>\n        <td>50</td>\n        <td>10</td>\n    </tr>\n    <tr>\n        <td>51</td>\n        <td>8</td>\n    </tr>\n    <tr>\n        <td>52</td>\n        <td>8</td>\n    </tr>\n    <tr>\n        <td>53</td>\n        <td>8</td>\n    </tr>\n    <tr>\n        <td>54</td>\n        <td>5</td>\n    </tr>\n    <tr>\n        <td>55</td>\n        <td>4</td>\n    </tr>\n    <tr>\n        <td>56</td>\n        <td>1</td>\n    </tr>\n    <tr>\n        <td>57</td>\n        <td>2</td>\n    </tr>\n    <tr>\n        <td>58</td>\n        <td>4</td>\n    </tr>\n    <tr>\n        <td>60</td>\n        <td>1</td>\n    </tr>\n</table>",
                        "text/plain": "[(38, Decimal('2')),\n (40, Decimal('1')),\n (43, Decimal('2')),\n (44, Decimal('2')),\n (45, Decimal('8')),\n (46, Decimal('7')),\n (47, Decimal('4')),\n (48, Decimal('14')),\n (49, Decimal('8')),\n (50, Decimal('10')),\n (51, Decimal('8')),\n (52, Decimal('8')),\n (53, Decimal('8')),\n (54, Decimal('5')),\n (55, Decimal('4')),\n (56, Decimal('1')),\n (57, Decimal('2')),\n (58, Decimal('4')),\n (60, Decimal('1'))]"
                    },
                    "execution_count": 41,
                    "metadata": {},
                    "output_type": "execute_result"
                }
            ],
            "source": "test_score_distribution = %sql SELECT test_score as \"Test Score\", count(*) as \"Frequency\" from INTERNATIONAL_STUDENT_TEST_SCORES GROUP BY test_score;\ntest_score_distribution"
        },
        {
            "cell_type": "markdown",
            "metadata": {},
            "source": "#### Converting Query Results to DataFrames"
        },
        {
            "cell_type": "markdown",
            "metadata": {},
            "source": "##### You can easily convert a SQL query result to a pandas dataframe using the `DataFrame()` method. Dataframe objects are much more versatile than SQL query result objects. For example, we can easily graph our test score distribution after converting to a dataframe."
        },
        {
            "cell_type": "code",
            "execution_count": 42,
            "metadata": {},
            "outputs": [
                {
                    "data": {
                        "image/png": "[encoded data removed]",
                        "text/plain": "<Figure size 432x288 with 1 Axes>"
                    },
                    "metadata": {
                        "needs_background": "light"
                    },
                    "output_type": "display_data"
                }
            ],
            "source": "dataframe = test_score_distribution.DataFrame()\n\n%matplotlib inline\n# uncomment the following line if you get an module error saying seaborn not found\n# !pip install seaborn\nimport seaborn\n\nplot = seaborn.barplot(x='Test Score',y='Frequency', data=dataframe)"
        },
        {
            "cell_type": "code",
            "execution_count": 43,
            "metadata": {},
            "outputs": [
                {
                    "name": "stdout",
                    "output_type": "stream",
                    "text": " * ibm_db_sa://xks76134:***@dashdb-txn-sbox-yp-dal09-03.services.dal.bluemix.net:50000/BLUDB\nDone.\n"
                },
                {
                    "data": {
                        "text/html": "<table>\n    <tr>\n        <th>country</th>\n        <th>first_name</th>\n        <th>last_name</th>\n        <th>test_score</th>\n    </tr>\n    <tr>\n        <td>United States</td>\n        <td>Marshall</td>\n        <td>Bernadot</td>\n        <td>54</td>\n    </tr>\n    <tr>\n        <td>Ghana</td>\n        <td>Celinda</td>\n        <td>Malkin</td>\n        <td>51</td>\n    </tr>\n    <tr>\n        <td>Ukraine</td>\n        <td>Guillermo</td>\n        <td>Furze</td>\n        <td>53</td>\n    </tr>\n    <tr>\n        <td>Greece</td>\n        <td>Aharon</td>\n        <td>Tunnow</td>\n        <td>48</td>\n    </tr>\n    <tr>\n        <td>Russia</td>\n        <td>Bail</td>\n        <td>Goodwin</td>\n        <td>46</td>\n    </tr>\n    <tr>\n        <td>Poland</td>\n        <td>Cole</td>\n        <td>Winteringham</td>\n        <td>49</td>\n    </tr>\n    <tr>\n        <td>Sweden</td>\n        <td>Emlyn</td>\n        <td>Erricker</td>\n        <td>55</td>\n    </tr>\n    <tr>\n        <td>Russia</td>\n        <td>Cathee</td>\n        <td>Sivewright</td>\n        <td>49</td>\n    </tr>\n    <tr>\n        <td>China</td>\n        <td>Barny</td>\n        <td>Ingerson</td>\n        <td>57</td>\n    </tr>\n    <tr>\n        <td>Uganda</td>\n        <td>Sharla</td>\n        <td>Papaccio</td>\n        <td>55</td>\n    </tr>\n    <tr>\n        <td>China</td>\n        <td>Stella</td>\n        <td>Youens</td>\n        <td>51</td>\n    </tr>\n    <tr>\n        <td>Poland</td>\n        <td>Julio</td>\n        <td>Buesden</td>\n        <td>48</td>\n    </tr>\n    <tr>\n        <td>United States</td>\n        <td>Tiffie</td>\n        <td>Cosely</td>\n        <td>58</td>\n    </tr>\n    <tr>\n        <td>Poland</td>\n        <td>Auroora</td>\n        <td>Stiffell</td>\n        <td>45</td>\n    </tr>\n    <tr>\n        <td>China</td>\n        <td>Clarita</td>\n        <td>Huet</td>\n        <td>52</td>\n    </tr>\n    <tr>\n        <td>Poland</td>\n        <td>Shannon</td>\n        <td>Goulden</td>\n        <td>45</td>\n    </tr>\n    <tr>\n        <td>Philippines</td>\n        <td>Emylee</td>\n        <td>Privost</td>\n        <td>50</td>\n    </tr>\n    <tr>\n        <td>France</td>\n        <td>Madelina</td>\n        <td>Burk</td>\n        <td>49</td>\n    </tr>\n    <tr>\n        <td>China</td>\n        <td>Saunderson</td>\n        <td>Root</td>\n        <td>58</td>\n    </tr>\n    <tr>\n        <td>Indonesia</td>\n        <td>Bo</td>\n        <td>Waring</td>\n        <td>55</td>\n    </tr>\n    <tr>\n        <td>China</td>\n        <td>Hollis</td>\n        <td>Domotor</td>\n        <td>45</td>\n    </tr>\n    <tr>\n        <td>Russia</td>\n        <td>Robbie</td>\n        <td>Collip</td>\n        <td>46</td>\n    </tr>\n    <tr>\n        <td>Philippines</td>\n        <td>Davon</td>\n        <td>Donisi</td>\n        <td>46</td>\n    </tr>\n    <tr>\n        <td>China</td>\n        <td>Cristabel</td>\n        <td>Radeliffe</td>\n        <td>48</td>\n    </tr>\n    <tr>\n        <td>China</td>\n        <td>Wallis</td>\n        <td>Bartleet</td>\n        <td>58</td>\n    </tr>\n    <tr>\n        <td>Moldova</td>\n        <td>Arleen</td>\n        <td>Stailey</td>\n        <td>38</td>\n    </tr>\n    <tr>\n        <td>Ireland</td>\n        <td>Mendel</td>\n        <td>Grumble</td>\n        <td>58</td>\n    </tr>\n    <tr>\n        <td>China</td>\n        <td>Sallyann</td>\n        <td>Exley</td>\n        <td>51</td>\n    </tr>\n    <tr>\n        <td>Mexico</td>\n        <td>Kain</td>\n        <td>Swaite</td>\n        <td>46</td>\n    </tr>\n    <tr>\n        <td>Indonesia</td>\n        <td>Alonso</td>\n        <td>Bulteel</td>\n        <td>45</td>\n    </tr>\n    <tr>\n        <td>Armenia</td>\n        <td>Anatol</td>\n        <td>Tankus</td>\n        <td>51</td>\n    </tr>\n    <tr>\n        <td>Indonesia</td>\n        <td>Coralyn</td>\n        <td>Dawkins</td>\n        <td>48</td>\n    </tr>\n    <tr>\n        <td>China</td>\n        <td>Deanne</td>\n        <td>Edwinson</td>\n        <td>45</td>\n    </tr>\n    <tr>\n        <td>China</td>\n        <td>Georgiana</td>\n        <td>Epple</td>\n        <td>51</td>\n    </tr>\n    <tr>\n        <td>Portugal</td>\n        <td>Bartlet</td>\n        <td>Breese</td>\n        <td>56</td>\n    </tr>\n    <tr>\n        <td>Azerbaijan</td>\n        <td>Idalina</td>\n        <td>Lukash</td>\n        <td>50</td>\n    </tr>\n    <tr>\n        <td>France</td>\n        <td>Livvie</td>\n        <td>Flory</td>\n        <td>54</td>\n    </tr>\n    <tr>\n        <td>Malaysia</td>\n        <td>Nonie</td>\n        <td>Borit</td>\n        <td>48</td>\n    </tr>\n    <tr>\n        <td>Indonesia</td>\n        <td>Clio</td>\n        <td>Mugg</td>\n        <td>47</td>\n    </tr>\n    <tr>\n        <td>Brazil</td>\n        <td>Westley</td>\n        <td>Measor</td>\n        <td>48</td>\n    </tr>\n    <tr>\n        <td>Philippines</td>\n        <td>Katrinka</td>\n        <td>Sibbert</td>\n        <td>51</td>\n    </tr>\n    <tr>\n        <td>Poland</td>\n        <td>Valentia</td>\n        <td>Mounch</td>\n        <td>50</td>\n    </tr>\n    <tr>\n        <td>Norway</td>\n        <td>Sheilah</td>\n        <td>Hedditch</td>\n        <td>53</td>\n    </tr>\n    <tr>\n        <td>Papua New Guinea</td>\n        <td>Itch</td>\n        <td>Jubb</td>\n        <td>50</td>\n    </tr>\n    <tr>\n        <td>Latvia</td>\n        <td>Stesha</td>\n        <td>Garnson</td>\n        <td>53</td>\n    </tr>\n    <tr>\n        <td>Canada</td>\n        <td>Cristionna</td>\n        <td>Wadmore</td>\n        <td>46</td>\n    </tr>\n    <tr>\n        <td>China</td>\n        <td>Lianna</td>\n        <td>Gatward</td>\n        <td>43</td>\n    </tr>\n    <tr>\n        <td>Guatemala</td>\n        <td>Tanney</td>\n        <td>Vials</td>\n        <td>48</td>\n    </tr>\n    <tr>\n        <td>France</td>\n        <td>Alma</td>\n        <td>Zavittieri</td>\n        <td>44</td>\n    </tr>\n    <tr>\n        <td>China</td>\n        <td>Alvira</td>\n        <td>Tamas</td>\n        <td>50</td>\n    </tr>\n    <tr>\n        <td>United States</td>\n        <td>Shanon</td>\n        <td>Peres</td>\n        <td>45</td>\n    </tr>\n    <tr>\n        <td>Sweden</td>\n        <td>Maisey</td>\n        <td>Lynas</td>\n        <td>53</td>\n    </tr>\n    <tr>\n        <td>Indonesia</td>\n        <td>Kip</td>\n        <td>Hothersall</td>\n        <td>46</td>\n    </tr>\n    <tr>\n        <td>China</td>\n        <td>Cash</td>\n        <td>Landis</td>\n        <td>48</td>\n    </tr>\n    <tr>\n        <td>Panama</td>\n        <td>Kennith</td>\n        <td>Digance</td>\n        <td>45</td>\n    </tr>\n    <tr>\n        <td>China</td>\n        <td>Ulberto</td>\n        <td>Riggeard</td>\n        <td>48</td>\n    </tr>\n    <tr>\n        <td>Switzerland</td>\n        <td>Judy</td>\n        <td>Gilligan</td>\n        <td>49</td>\n    </tr>\n    <tr>\n        <td>Philippines</td>\n        <td>Tod</td>\n        <td>Trevaskus</td>\n        <td>52</td>\n    </tr>\n    <tr>\n        <td>Brazil</td>\n        <td>Herold</td>\n        <td>Heggs</td>\n        <td>44</td>\n    </tr>\n    <tr>\n        <td>Latvia</td>\n        <td>Verney</td>\n        <td>Note</td>\n        <td>50</td>\n    </tr>\n    <tr>\n        <td>Poland</td>\n        <td>Temp</td>\n        <td>Ribey</td>\n        <td>50</td>\n    </tr>\n    <tr>\n        <td>China</td>\n        <td>Conroy</td>\n        <td>Egdal</td>\n        <td>48</td>\n    </tr>\n    <tr>\n        <td>Japan</td>\n        <td>Gabie</td>\n        <td>Alessandone</td>\n        <td>47</td>\n    </tr>\n    <tr>\n        <td>Ukraine</td>\n        <td>Devlen</td>\n        <td>Chaperlin</td>\n        <td>54</td>\n    </tr>\n    <tr>\n        <td>France</td>\n        <td>Babbette</td>\n        <td>Turner</td>\n        <td>51</td>\n    </tr>\n    <tr>\n        <td>Czech Republic</td>\n        <td>Virgil</td>\n        <td>Scotney</td>\n        <td>52</td>\n    </tr>\n    <tr>\n        <td>Tajikistan</td>\n        <td>Zorina</td>\n        <td>Bedow</td>\n        <td>49</td>\n    </tr>\n    <tr>\n        <td>China</td>\n        <td>Aidan</td>\n        <td>Rudeyeard</td>\n        <td>50</td>\n    </tr>\n    <tr>\n        <td>Ireland</td>\n        <td>Saunder</td>\n        <td>MacLice</td>\n        <td>48</td>\n    </tr>\n    <tr>\n        <td>France</td>\n        <td>Waly</td>\n        <td>Brunstan</td>\n        <td>53</td>\n    </tr>\n    <tr>\n        <td>China</td>\n        <td>Gisele</td>\n        <td>Enns</td>\n        <td>52</td>\n    </tr>\n    <tr>\n        <td>Peru</td>\n        <td>Mina</td>\n        <td>Winchester</td>\n        <td>48</td>\n    </tr>\n    <tr>\n        <td>Japan</td>\n        <td>Torie</td>\n        <td>MacShirrie</td>\n        <td>50</td>\n    </tr>\n    <tr>\n        <td>Russia</td>\n        <td>Benjamen</td>\n        <td>Kenford</td>\n        <td>51</td>\n    </tr>\n    <tr>\n        <td>China</td>\n        <td>Etan</td>\n        <td>Burn</td>\n        <td>53</td>\n    </tr>\n    <tr>\n        <td>Russia</td>\n        <td>Merralee</td>\n        <td>Chaperlin</td>\n        <td>38</td>\n    </tr>\n    <tr>\n        <td>Indonesia</td>\n        <td>Lanny</td>\n        <td>Malam</td>\n        <td>49</td>\n    </tr>\n    <tr>\n        <td>Canada</td>\n        <td>Wilhelm</td>\n        <td>Deeprose</td>\n        <td>54</td>\n    </tr>\n    <tr>\n        <td>Czech Republic</td>\n        <td>Lari</td>\n        <td>Hillhouse</td>\n        <td>48</td>\n    </tr>\n    <tr>\n        <td>China</td>\n        <td>Ossie</td>\n        <td>Woodley</td>\n        <td>52</td>\n    </tr>\n    <tr>\n        <td>Macedonia</td>\n        <td>April</td>\n        <td>Tyer</td>\n        <td>50</td>\n    </tr>\n    <tr>\n        <td>Vietnam</td>\n        <td>Madelon</td>\n        <td>Dansey</td>\n        <td>53</td>\n    </tr>\n    <tr>\n        <td>Ukraine</td>\n        <td>Korella</td>\n        <td>McNamee</td>\n        <td>52</td>\n    </tr>\n    <tr>\n        <td>Jamaica</td>\n        <td>Linnea</td>\n        <td>Cannam</td>\n        <td>43</td>\n    </tr>\n    <tr>\n        <td>China</td>\n        <td>Mart</td>\n        <td>Coling</td>\n        <td>52</td>\n    </tr>\n    <tr>\n        <td>Indonesia</td>\n        <td>Marna</td>\n        <td>Causbey</td>\n        <td>47</td>\n    </tr>\n    <tr>\n        <td>China</td>\n        <td>Berni</td>\n        <td>Daintier</td>\n        <td>55</td>\n    </tr>\n    <tr>\n        <td>Poland</td>\n        <td>Cynthia</td>\n        <td>Hassell</td>\n        <td>49</td>\n    </tr>\n    <tr>\n        <td>Canada</td>\n        <td>Carma</td>\n        <td>Schule</td>\n        <td>49</td>\n    </tr>\n    <tr>\n        <td>Indonesia</td>\n        <td>Malia</td>\n        <td>Blight</td>\n        <td>48</td>\n    </tr>\n    <tr>\n        <td>China</td>\n        <td>Paulo</td>\n        <td>Seivertsen</td>\n        <td>47</td>\n    </tr>\n    <tr>\n        <td>Niger</td>\n        <td>Kaylee</td>\n        <td>Hearley</td>\n        <td>54</td>\n    </tr>\n    <tr>\n        <td>Japan</td>\n        <td>Maure</td>\n        <td>Jandak</td>\n        <td>46</td>\n    </tr>\n    <tr>\n        <td>Argentina</td>\n        <td>Foss</td>\n        <td>Feavers</td>\n        <td>45</td>\n    </tr>\n    <tr>\n        <td>Venezuela</td>\n        <td>Ron</td>\n        <td>Leggitt</td>\n        <td>60</td>\n    </tr>\n    <tr>\n        <td>Russia</td>\n        <td>Flint</td>\n        <td>Gokes</td>\n        <td>40</td>\n    </tr>\n    <tr>\n        <td>China</td>\n        <td>Linet</td>\n        <td>Conelly</td>\n        <td>52</td>\n    </tr>\n    <tr>\n        <td>Philippines</td>\n        <td>Nikolas</td>\n        <td>Birtwell</td>\n        <td>57</td>\n    </tr>\n    <tr>\n        <td>Australia</td>\n        <td>Eduard</td>\n        <td>Leipelt</td>\n        <td>53</td>\n    </tr>\n</table>",
                        "text/plain": "[('United States', 'Marshall', 'Bernadot', 54),\n ('Ghana', 'Celinda', 'Malkin', 51),\n ('Ukraine', 'Guillermo', 'Furze', 53),\n ('Greece', 'Aharon', 'Tunnow', 48),\n ('Russia', 'Bail', 'Goodwin', 46),\n ('Poland', 'Cole', 'Winteringham', 49),\n ('Sweden', 'Emlyn', 'Erricker', 55),\n ('Russia', 'Cathee', 'Sivewright', 49),\n ('China', 'Barny', 'Ingerson', 57),\n ('Uganda', 'Sharla', 'Papaccio', 55),\n ('China', 'Stella', 'Youens', 51),\n ('Poland', 'Julio', 'Buesden', 48),\n ('United States', 'Tiffie', 'Cosely', 58),\n ('Poland', 'Auroora', 'Stiffell', 45),\n ('China', 'Clarita', 'Huet', 52),\n ('Poland', 'Shannon', 'Goulden', 45),\n ('Philippines', 'Emylee', 'Privost', 50),\n ('France', 'Madelina', 'Burk', 49),\n ('China', 'Saunderson', 'Root', 58),\n ('Indonesia', 'Bo', 'Waring', 55),\n ('China', 'Hollis', 'Domotor', 45),\n ('Russia', 'Robbie', 'Collip', 46),\n ('Philippines', 'Davon', 'Donisi', 46),\n ('China', 'Cristabel', 'Radeliffe', 48),\n ('China', 'Wallis', 'Bartleet', 58),\n ('Moldova', 'Arleen', 'Stailey', 38),\n ('Ireland', 'Mendel', 'Grumble', 58),\n ('China', 'Sallyann', 'Exley', 51),\n ('Mexico', 'Kain', 'Swaite', 46),\n ('Indonesia', 'Alonso', 'Bulteel', 45),\n ('Armenia', 'Anatol', 'Tankus', 51),\n ('Indonesia', 'Coralyn', 'Dawkins', 48),\n ('China', 'Deanne', 'Edwinson', 45),\n ('China', 'Georgiana', 'Epple', 51),\n ('Portugal', 'Bartlet', 'Breese', 56),\n ('Azerbaijan', 'Idalina', 'Lukash', 50),\n ('France', 'Livvie', 'Flory', 54),\n ('Malaysia', 'Nonie', 'Borit', 48),\n ('Indonesia', 'Clio', 'Mugg', 47),\n ('Brazil', 'Westley', 'Measor', 48),\n ('Philippines', 'Katrinka', 'Sibbert', 51),\n ('Poland', 'Valentia', 'Mounch', 50),\n ('Norway', 'Sheilah', 'Hedditch', 53),\n ('Papua New Guinea', 'Itch', 'Jubb', 50),\n ('Latvia', 'Stesha', 'Garnson', 53),\n ('Canada', 'Cristionna', 'Wadmore', 46),\n ('China', 'Lianna', 'Gatward', 43),\n ('Guatemala', 'Tanney', 'Vials', 48),\n ('France', 'Alma', 'Zavittieri', 44),\n ('China', 'Alvira', 'Tamas', 50),\n ('United States', 'Shanon', 'Peres', 45),\n ('Sweden', 'Maisey', 'Lynas', 53),\n ('Indonesia', 'Kip', 'Hothersall', 46),\n ('China', 'Cash', 'Landis', 48),\n ('Panama', 'Kennith', 'Digance', 45),\n ('China', 'Ulberto', 'Riggeard', 48),\n ('Switzerland', 'Judy', 'Gilligan', 49),\n ('Philippines', 'Tod', 'Trevaskus', 52),\n ('Brazil', 'Herold', 'Heggs', 44),\n ('Latvia', 'Verney', 'Note', 50),\n ('Poland', 'Temp', 'Ribey', 50),\n ('China', 'Conroy', 'Egdal', 48),\n ('Japan', 'Gabie', 'Alessandone', 47),\n ('Ukraine', 'Devlen', 'Chaperlin', 54),\n ('France', 'Babbette', 'Turner', 51),\n ('Czech Republic', 'Virgil', 'Scotney', 52),\n ('Tajikistan', 'Zorina', 'Bedow', 49),\n ('China', 'Aidan', 'Rudeyeard', 50),\n ('Ireland', 'Saunder', 'MacLice', 48),\n ('France', 'Waly', 'Brunstan', 53),\n ('China', 'Gisele', 'Enns', 52),\n ('Peru', 'Mina', 'Winchester', 48),\n ('Japan', 'Torie', 'MacShirrie', 50),\n ('Russia', 'Benjamen', 'Kenford', 51),\n ('China', 'Etan', 'Burn', 53),\n ('Russia', 'Merralee', 'Chaperlin', 38),\n ('Indonesia', 'Lanny', 'Malam', 49),\n ('Canada', 'Wilhelm', 'Deeprose', 54),\n ('Czech Republic', 'Lari', 'Hillhouse', 48),\n ('China', 'Ossie', 'Woodley', 52),\n ('Macedonia', 'April', 'Tyer', 50),\n ('Vietnam', 'Madelon', 'Dansey', 53),\n ('Ukraine', 'Korella', 'McNamee', 52),\n ('Jamaica', 'Linnea', 'Cannam', 43),\n ('China', 'Mart', 'Coling', 52),\n ('Indonesia', 'Marna', 'Causbey', 47),\n ('China', 'Berni', 'Daintier', 55),\n ('Poland', 'Cynthia', 'Hassell', 49),\n ('Canada', 'Carma', 'Schule', 49),\n ('Indonesia', 'Malia', 'Blight', 48),\n ('China', 'Paulo', 'Seivertsen', 47),\n ('Niger', 'Kaylee', 'Hearley', 54),\n ('Japan', 'Maure', 'Jandak', 46),\n ('Argentina', 'Foss', 'Feavers', 45),\n ('Venezuela', 'Ron', 'Leggitt', 60),\n ('Russia', 'Flint', 'Gokes', 40),\n ('China', 'Linet', 'Conelly', 52),\n ('Philippines', 'Nikolas', 'Birtwell', 57),\n ('Australia', 'Eduard', 'Leipelt', 53)]"
                    },
                    "execution_count": 43,
                    "metadata": {},
                    "output_type": "execute_result"
                }
            ],
            "source": "%%sql \n\n-- Feel free to experiment with the data set provided in this notebook for practice:\nSELECT country, first_name, last_name, test_score FROM INTERNATIONAL_STUDENT_TEST_SCORES;    "
        },
        {
            "cell_type": "markdown",
            "metadata": {},
            "source": "# Analyzing a real world data-set with SQL and Python"
        },
        {
            "cell_type": "markdown",
            "metadata": {},
            "source": "# Introduction\n\nThis notebook shows how to store a dataset into a database using and analyze data using SQL and Python. In this lab you will:\n1. Understand a dataset of selected socioeconomic indicators in Chicago\n1. Learn how to store data in an Db2 database on IBM Cloud instance\n1. Solve example problems to practice your SQL skills "
        },
        {
            "cell_type": "markdown",
            "metadata": {},
            "source": "## Selected Socioeconomic Indicators in Chicago\n\nThe city of Chicago released a dataset of socioeconomic data to the Chicago City Portal.\nThis dataset contains a selection of six socioeconomic indicators of public health significance and a \u201chardship index,\u201d for each Chicago community area, for the years 2008 \u2013 2012.\n\nScores on the hardship index can range from 1 to 100, with a higher index number representing a greater level of hardship.\n\nA detailed description of the dataset can be found on [the city of Chicago's website](\nhttps://data.cityofchicago.org/Health-Human-Services/Census-Data-Selected-socioeconomic-indicators-in-C/kn9c-c2s2), but to summarize, the dataset has the following variables:\n\n* **Community Area Number** (`ca`): Used to uniquely identify each row of the dataset\n\n* **Community Area Name** (`community_area_name`): The name of the region in the city of Chicago \n\n* **Percent of Housing Crowded** (`percent_of_housing_crowded`): Percent of occupied housing units with more than one person per room\n\n* **Percent Households Below Poverty** (`percent_households_below_poverty`): Percent of households living below the federal poverty line\n\n* **Percent Aged 16+ Unemployed** (`percent_aged_16_unemployed`): Percent of persons over the age of 16 years that are unemployed\n\n* **Percent Aged 25+ without High School Diploma** (`percent_aged_25_without_high_school_diploma`): Percent of persons over the age of 25 years without a high school education\n\n* **Percent Aged Under** 18 or Over 64:Percent of population under 18 or over 64 years of age (`percent_aged_under_18_or_over_64`): (ie. dependents)\n\n* **Per Capita Income** (`per_capita_income_`): Community Area per capita income is estimated as the sum of tract-level aggragate incomes divided by the total population\n\n* **Hardship Index** (`hardship_index`): Score that incorporates each of the six selected socioeconomic indicators\n\nIn this Lab, we'll take a look at the variables in the socioeconomic indicators dataset and do some basic analysis with Python.\n"
        },
        {
            "cell_type": "markdown",
            "metadata": {},
            "source": "### Connect to the database\nLet us first load the SQL extension and establish a connection with the database"
        },
        {
            "cell_type": "code",
            "execution_count": 44,
            "metadata": {},
            "outputs": [
                {
                    "name": "stdout",
                    "output_type": "stream",
                    "text": "The sql extension is already loaded. To reload it, use:\n  %reload_ext sql\n"
                }
            ],
            "source": "%load_ext sql"
        },
        {
            "cell_type": "code",
            "execution_count": 45,
            "metadata": {},
            "outputs": [
                {
                    "data": {
                        "text/plain": "'Connected: xks76134@BLUDB'"
                    },
                    "execution_count": 45,
                    "metadata": {},
                    "output_type": "execute_result"
                }
            ],
            "source": "# Remember the connection string is of the format:\n# %sql ibm_db_sa://my-username:my-password@my-hostname:my-port/my-db-name\n# Enter the connection string for your Db2 on Cloud database instance below\n# i.e. copy after db2:// from the URI string in Service Credentials of your Db2 instance. Remove the double quotes at the end.\n%sql ibm_db_sa://xks76134:npglfs0j-k5sx39v@dashdb-txn-sbox-yp-dal09-03.services.dal.bluemix.net:50000/BLUDB"
        },
        {
            "cell_type": "markdown",
            "metadata": {},
            "source": "### Store the dataset in a Table\n##### In many cases the dataset to be analyzed is available as a .CSV (comma separated values) file, perhaps on the internet. To analyze the data using SQL, it first needs to be stored in the database.\n\n##### We will first read the dataset source .CSV from the internet into pandas dataframe\n\n##### Then we need to create a table in our Db2 database to store the dataset. The PERSIST command in SQL \"magic\" simplifies the process of table creation and writing the data from a `pandas` dataframe into the table"
        },
        {
            "cell_type": "code",
            "execution_count": 46,
            "metadata": {},
            "outputs": [
                {
                    "name": "stdout",
                    "output_type": "stream",
                    "text": " * ibm_db_sa://xks76134:***@dashdb-txn-sbox-yp-dal09-03.services.dal.bluemix.net:50000/BLUDB\n"
                },
                {
                    "data": {
                        "text/plain": "'Persisted chicago_socioeconomic_data'"
                    },
                    "execution_count": 46,
                    "metadata": {},
                    "output_type": "execute_result"
                }
            ],
            "source": "import pandas\nchicago_socioeconomic_data = pandas.read_csv('https://data.cityofchicago.org/resource/jcxq-k9xf.csv')\n%sql PERSIST chicago_socioeconomic_data"
        },
        {
            "cell_type": "markdown",
            "metadata": {},
            "source": "##### You can verify that the table creation was successful by making a basic query like:"
        },
        {
            "cell_type": "code",
            "execution_count": 49,
            "metadata": {},
            "outputs": [
                {
                    "name": "stdout",
                    "output_type": "stream",
                    "text": " * ibm_db_sa://xks76134:***@dashdb-txn-sbox-yp-dal09-03.services.dal.bluemix.net:50000/BLUDB\nDone.\n"
                },
                {
                    "data": {
                        "text/html": "<table>\n    <tr>\n        <th>index</th>\n        <th>ca</th>\n        <th>community_area_name</th>\n        <th>percent_of_housing_crowded</th>\n        <th>percent_households_below_poverty</th>\n        <th>percent_aged_16_unemployed</th>\n        <th>percent_aged_25_without_high_school_diploma</th>\n        <th>percent_aged_under_18_or_over_64</th>\n        <th>per_capita_income_</th>\n        <th>hardship_index</th>\n    </tr>\n    <tr>\n        <td>0</td>\n        <td>1.0</td>\n        <td>Rogers Park</td>\n        <td>7.7</td>\n        <td>23.6</td>\n        <td>8.7</td>\n        <td>18.2</td>\n        <td>27.5</td>\n        <td>23939</td>\n        <td>39.0</td>\n    </tr>\n    <tr>\n        <td>1</td>\n        <td>2.0</td>\n        <td>West Ridge</td>\n        <td>7.8</td>\n        <td>17.2</td>\n        <td>8.8</td>\n        <td>20.8</td>\n        <td>38.5</td>\n        <td>23040</td>\n        <td>46.0</td>\n    </tr>\n    <tr>\n        <td>2</td>\n        <td>3.0</td>\n        <td>Uptown</td>\n        <td>3.8</td>\n        <td>24.0</td>\n        <td>8.9</td>\n        <td>11.8</td>\n        <td>22.2</td>\n        <td>35787</td>\n        <td>20.0</td>\n    </tr>\n    <tr>\n        <td>3</td>\n        <td>4.0</td>\n        <td>Lincoln Square</td>\n        <td>3.4</td>\n        <td>10.9</td>\n        <td>8.2</td>\n        <td>13.4</td>\n        <td>25.5</td>\n        <td>37524</td>\n        <td>17.0</td>\n    </tr>\n    <tr>\n        <td>4</td>\n        <td>5.0</td>\n        <td>North Center</td>\n        <td>0.3</td>\n        <td>7.5</td>\n        <td>5.2</td>\n        <td>4.5</td>\n        <td>26.2</td>\n        <td>57123</td>\n        <td>6.0</td>\n    </tr>\n</table>",
                        "text/plain": "[(0, 1.0, 'Rogers Park', 7.7, 23.6, 8.7, 18.2, 27.5, 23939, 39.0),\n (1, 2.0, 'West Ridge', 7.8, 17.2, 8.8, 20.8, 38.5, 23040, 46.0),\n (2, 3.0, 'Uptown', 3.8, 24.0, 8.9, 11.8, 22.2, 35787, 20.0),\n (3, 4.0, 'Lincoln Square', 3.4, 10.9, 8.2, 13.4, 25.5, 37524, 17.0),\n (4, 5.0, 'North Center', 0.3, 7.5, 5.2, 4.5, 26.2, 57123, 6.0)]"
                    },
                    "execution_count": 49,
                    "metadata": {},
                    "output_type": "execute_result"
                }
            ],
            "source": "%sql SELECT * FROM chicago_socioeconomic_data limit 5;"
        },
        {
            "cell_type": "markdown",
            "metadata": {},
            "source": "## Problems\n\n### Problem 1\n\n##### How many rows are in the dataset?\n##### How many community areas in Chicago have a hardship index greater than 50.0?\n##### What is the maximum value of hardship index in this dataset?"
        },
        {
            "cell_type": "code",
            "execution_count": 50,
            "metadata": {},
            "outputs": [
                {
                    "data": {
                        "text/plain": "(78, 9)"
                    },
                    "execution_count": 50,
                    "metadata": {},
                    "output_type": "execute_result"
                }
            ],
            "source": "chicago_socioeconomic_data.shape"
        },
        {
            "cell_type": "code",
            "execution_count": 64,
            "metadata": {},
            "outputs": [
                {
                    "name": "stdout",
                    "output_type": "stream",
                    "text": " * ibm_db_sa://xks76134:***@dashdb-txn-sbox-yp-dal09-03.services.dal.bluemix.net:50000/BLUDB\nDone.\nDone.\nDone.\n"
                },
                {
                    "data": {
                        "text/html": "<table>\n    <tr>\n        <th>1</th>\n    </tr>\n    <tr>\n        <td>98.0</td>\n    </tr>\n</table>",
                        "text/plain": "[(98.0,)]"
                    },
                    "execution_count": 64,
                    "metadata": {},
                    "output_type": "execute_result"
                }
            ],
            "source": "%sql select count(*) from chicago_socioeconomic_data;"
        },
        {
            "cell_type": "code",
            "execution_count": 65,
            "metadata": {},
            "outputs": [
                {
                    "name": "stdout",
                    "output_type": "stream",
                    "text": " * ibm_db_sa://xks76134:***@dashdb-txn-sbox-yp-dal09-03.services.dal.bluemix.net:50000/BLUDB\nDone.\n"
                },
                {
                    "data": {
                        "text/html": "<table>\n    <tr>\n        <th>1</th>\n    </tr>\n    <tr>\n        <td>38</td>\n    </tr>\n</table>",
                        "text/plain": "[(Decimal('38'),)]"
                    },
                    "execution_count": 65,
                    "metadata": {},
                    "output_type": "execute_result"
                }
            ],
            "source": "%sql SELECT COUNT(*) FROM chicago_socioeconomic_data WHERE hardship_index > 50.0;"
        },
        {
            "cell_type": "code",
            "execution_count": 66,
            "metadata": {},
            "outputs": [
                {
                    "name": "stdout",
                    "output_type": "stream",
                    "text": " * ibm_db_sa://xks76134:***@dashdb-txn-sbox-yp-dal09-03.services.dal.bluemix.net:50000/BLUDB\nDone.\n"
                },
                {
                    "data": {
                        "text/html": "<table>\n    <tr>\n        <th>1</th>\n    </tr>\n    <tr>\n        <td>98.0</td>\n    </tr>\n</table>",
                        "text/plain": "[(98.0,)]"
                    },
                    "execution_count": 66,
                    "metadata": {},
                    "output_type": "execute_result"
                }
            ],
            "source": "%sql SELECT max(hardship_index) FROM chicago_socioeconomic_data;"
        },
        {
            "cell_type": "markdown",
            "metadata": {},
            "source": "### Problem 4\n\n##### Which community area which has the highest hardship index?"
        },
        {
            "cell_type": "code",
            "execution_count": 68,
            "metadata": {},
            "outputs": [
                {
                    "name": "stdout",
                    "output_type": "stream",
                    "text": " * ibm_db_sa://xks76134:***@dashdb-txn-sbox-yp-dal09-03.services.dal.bluemix.net:50000/BLUDB\nDone.\n"
                },
                {
                    "data": {
                        "text/html": "<table>\n    <tr>\n        <th>community_area_name</th>\n    </tr>\n    <tr>\n        <td>Riverdale</td>\n    </tr>\n</table>",
                        "text/plain": "[('Riverdale',)]"
                    },
                    "execution_count": 68,
                    "metadata": {},
                    "output_type": "execute_result"
                }
            ],
            "source": "%sql select community_area_name from chicago_socioeconomic_data where hardship_index in (select max(hardship_index) FROM chicago_socioeconomic_data);"
        },
        {
            "cell_type": "markdown",
            "metadata": {},
            "source": "### Problem 5\n\n##### Which Chicago community areas have per-capita incomes greater than $60,000?"
        },
        {
            "cell_type": "code",
            "execution_count": 71,
            "metadata": {},
            "outputs": [
                {
                    "name": "stdout",
                    "output_type": "stream",
                    "text": " * ibm_db_sa://xks76134:***@dashdb-txn-sbox-yp-dal09-03.services.dal.bluemix.net:50000/BLUDB\nDone.\n"
                },
                {
                    "data": {
                        "text/html": "<table>\n    <tr>\n        <th>community_area_name</th>\n    </tr>\n    <tr>\n        <td>Lake View</td>\n    </tr>\n    <tr>\n        <td>Lincoln Park</td>\n    </tr>\n    <tr>\n        <td>Near North Side</td>\n    </tr>\n    <tr>\n        <td>Loop</td>\n    </tr>\n</table>",
                        "text/plain": "[('Lake View',), ('Lincoln Park',), ('Near North Side',), ('Loop',)]"
                    },
                    "execution_count": 71,
                    "metadata": {},
                    "output_type": "execute_result"
                }
            ],
            "source": "%sql select community_area_name from chicago_socioeconomic_data where per_capita_income_>60000;"
        },
        {
            "cell_type": "markdown",
            "metadata": {},
            "source": "### Problem 6\n\n##### Create a scatter plot using the variables `per_capita_income_` and `hardship_index`. Explain the correlation between the two variables."
        },
        {
            "cell_type": "code",
            "execution_count": 73,
            "metadata": {},
            "outputs": [
                {
                    "name": "stdout",
                    "output_type": "stream",
                    "text": " * ibm_db_sa://xks76134:***@dashdb-txn-sbox-yp-dal09-03.services.dal.bluemix.net:50000/BLUDB\nDone.\n"
                },
                {
                    "data": {
                        "image/png": "[encoded data removed]",
                        "text/plain": "<Figure size 432x432 with 3 Axes>"
                    },
                    "metadata": {
                        "needs_background": "light"
                    },
                    "output_type": "display_data"
                }
            ],
            "source": "import seaborn as sns\n\nincome_vs_hardship = %sql SELECT per_capita_income_, hardship_index FROM chicago_socioeconomic_data;\nplot = sns.jointplot(x='per_capita_income_',y='hardship_index', data=income_vs_hardship.DataFrame())"
        },
        {
            "cell_type": "markdown",
            "metadata": {},
            "source": "### Conclusion\n\n##### Now that you know how to do basic exploratory data analysis using SQL and python visualization tools, you can further explore this dataset to see how the variable `per_capita_income_` is related to `percent_households_below_poverty` and `percent_aged_16_unemployed`. Try to create interesting visualizations!"
        },
        {
            "cell_type": "code",
            "execution_count": 74,
            "metadata": {},
            "outputs": [
                {
                    "name": "stdout",
                    "output_type": "stream",
                    "text": " * ibm_db_sa://xks76134:***@dashdb-txn-sbox-yp-dal09-03.services.dal.bluemix.net:50000/BLUDB\nDone.\n"
                },
                {
                    "data": {
                        "image/png": "[encoded data removed]",
                        "text/plain": "<Figure size 432x432 with 3 Axes>"
                    },
                    "metadata": {
                        "needs_background": "light"
                    },
                    "output_type": "display_data"
                }
            ],
            "source": "income_vs_households = %sql SELECT per_capita_income_, percent_households_below_poverty FROM chicago_socioeconomic_data;\nplot = sns.jointplot(x='per_capita_income_',y='percent_households_below_poverty', data=income_vs_households.DataFrame())"
        },
        {
            "cell_type": "code",
            "execution_count": 75,
            "metadata": {},
            "outputs": [
                {
                    "name": "stdout",
                    "output_type": "stream",
                    "text": " * ibm_db_sa://xks76134:***@dashdb-txn-sbox-yp-dal09-03.services.dal.bluemix.net:50000/BLUDB\nDone.\n"
                },
                {
                    "data": {
                        "image/png": "[encoded data removed]",
                        "text/plain": "<Figure size 432x432 with 3 Axes>"
                    },
                    "metadata": {
                        "needs_background": "light"
                    },
                    "output_type": "display_data"
                }
            ],
            "source": "income_vs_age = %sql SELECT per_capita_income_, percent_aged_16_unemployed FROM chicago_socioeconomic_data;\nplot = sns.jointplot(x='per_capita_income_',y='percent_aged_16_unemployed', data=income_vs_age.DataFrame())"
        },
        {
            "cell_type": "code",
            "execution_count": 79,
            "metadata": {},
            "outputs": [
                {
                    "name": "stdout",
                    "output_type": "stream",
                    "text": " * ibm_db_sa://xks76134:***@dashdb-txn-sbox-yp-dal09-03.services.dal.bluemix.net:50000/BLUDB\nDone.\n"
                },
                {
                    "data": {
                        "text/html": "<table>\n    <tr>\n        <th>tabschema</th>\n        <th>tabname</th>\n        <th>owner</th>\n        <th>ownertype</th>\n        <th>TYPE</th>\n        <th>status</th>\n        <th>base_tabschema</th>\n        <th>base_tabname</th>\n        <th>rowtypeschema</th>\n        <th>rowtypename</th>\n        <th>create_time</th>\n        <th>alter_time</th>\n        <th>invalidate_time</th>\n        <th>stats_time</th>\n        <th>colcount</th>\n        <th>tableid</th>\n        <th>tbspaceid</th>\n        <th>card</th>\n        <th>npages</th>\n        <th>mpages</th>\n        <th>fpages</th>\n        <th>npartitions</th>\n        <th>nfiles</th>\n        <th>tablesize</th>\n        <th>overflow</th>\n        <th>tbspace</th>\n        <th>index_tbspace</th>\n        <th>long_tbspace</th>\n        <th>parents</th>\n        <th>children</th>\n        <th>selfrefs</th>\n        <th>keycolumns</th>\n        <th>keyindexid</th>\n        <th>keyunique</th>\n        <th>checkcount</th>\n        <th>datacapture</th>\n        <th>const_checked</th>\n        <th>pmap_id</th>\n        <th>partition_mode</th>\n        <th>log_attribute</th>\n        <th>pctfree</th>\n        <th>append_mode</th>\n        <th>REFRESH</th>\n        <th>refresh_time</th>\n        <th>LOCKSIZE</th>\n        <th>VOLATILE</th>\n        <th>row_format</th>\n        <th>property</th>\n        <th>statistics_profile</th>\n        <th>compression</th>\n        <th>rowcompmode</th>\n        <th>access_mode</th>\n        <th>clustered</th>\n        <th>active_blocks</th>\n        <th>droprule</th>\n        <th>maxfreespacesearch</th>\n        <th>avgcompressedrowsize</th>\n        <th>avgrowcompressionratio</th>\n        <th>avgrowsize</th>\n        <th>pctrowscompressed</th>\n        <th>logindexbuild</th>\n        <th>codepage</th>\n        <th>collationschema</th>\n        <th>collationname</th>\n        <th>collationschema_orderby</th>\n        <th>collationname_orderby</th>\n        <th>encoding_scheme</th>\n        <th>pctpagessaved</th>\n        <th>last_regen_time</th>\n        <th>secpolicyid</th>\n        <th>protectiongranularity</th>\n        <th>auditpolicyid</th>\n        <th>auditpolicyname</th>\n        <th>auditexceptionenabled</th>\n        <th>definer</th>\n        <th>oncommit</th>\n        <th>logged</th>\n        <th>onrollback</th>\n        <th>lastused</th>\n        <th>control</th>\n        <th>temporaltype</th>\n        <th>tableorg</th>\n        <th>extended_row_size</th>\n        <th>pctextendedrows</th>\n        <th>remarks</th>\n    </tr>\n</table>",
                        "text/plain": "[]"
                    },
                    "execution_count": 79,
                    "metadata": {},
                    "output_type": "execute_result"
                }
            ],
            "source": "%sql select * from syscat.tables where tabschema='xks76134'"
        },
        {
            "cell_type": "markdown",
            "metadata": {},
            "source": "# Working with a real world data-set using SQL and Python"
        },
        {
            "cell_type": "markdown",
            "metadata": {},
            "source": "# Introduction\n\nThis notebook shows how to work with a real world dataset using SQL and Python. In this lab you will:\n1. Understand the dataset for Chicago Public School level performance \n1. Store the dataset in an Db2 database on IBM Cloud instance\n1. Retrieve metadata about tables and columns and query data from mixed case columns\n1. Solve example problems to practice your SQL skills including using built-in database functions"
        },
        {
            "cell_type": "markdown",
            "metadata": {},
            "source": "## Chicago Public Schools - Progress Report Cards (2011-2012) \n\nThe city of Chicago released a dataset showing all school level performance data used to create School Report Cards for the 2011-2012 school year. The dataset is available from the Chicago Data Portal: https://data.cityofchicago.org/Education/Chicago-Public-Schools-Progress-Report-Cards-2011-/9xs2-f89t\n\nThis dataset includes a large number of metrics. Start by familiarizing yourself with the types of metrics in the database: https://data.cityofchicago.org/api/assets/AAD41A13-BE8A-4E67-B1F5-86E711E09D5F?download=true\n\n__NOTE__: Do not download the dataset directly from City of Chicago portal. Instead download a more database friendly version from the link below.\nNow download a static copy of this database and review some of its contents:\nhttps://ibm.box.com/shared/static/f9gjvj1gjmxxzycdhplzt01qtz0s7ew7.csv\n\n"
        },
        {
            "cell_type": "markdown",
            "metadata": {},
            "source": "### Store the dataset in a Table\nIn many cases the dataset to be analyzed is available as a .CSV (comma separated values) file, perhaps on the internet. To analyze the data using SQL, it first needs to be stored in the database.\n\nWhile it is easier to read the dataset into a Pandas dataframe and then PERSIST it into the database as we saw in the previous lab, it results in mapping to default datatypes which may not be optimal for SQL querying. For example a long textual field may map to a CLOB instead of a VARCHAR. \n\nTherefore, __it is highly recommended to manually load the table using the database console LOAD tool, as indicated in Week 2 Lab 1 Part II__. The only difference with that lab is that in Step 5 of the instructions you will need to click on create \"(+) New Table\" and specify the name of the table you want to create and then click \"Next\". \n\n##### Now open the Db2 console, open the LOAD tool, Select / Drag the .CSV file for the CHICAGO PUBLIC SCHOOLS dataset and load the dataset into a new table called __SCHOOLS__.\n\n<a href=\"https://cognitiveclass.ai\"><img src = \"https://ibm.box.com/shared/static/uc4xjh1uxcc78ks1i18v668simioz4es.jpg\"></a>"
        },
        {
            "cell_type": "markdown",
            "metadata": {},
            "source": "### Connect to the database\nLet us now load the ipython-sql  extension and establish a connection with the database"
        },
        {
            "cell_type": "code",
            "execution_count": 80,
            "metadata": {},
            "outputs": [
                {
                    "name": "stdout",
                    "output_type": "stream",
                    "text": "The sql extension is already loaded. To reload it, use:\n  %reload_ext sql\n"
                }
            ],
            "source": "%load_ext sql"
        },
        {
            "cell_type": "code",
            "execution_count": 81,
            "metadata": {},
            "outputs": [
                {
                    "data": {
                        "text/plain": "'Connected: xks76134@BLUDB'"
                    },
                    "execution_count": 81,
                    "metadata": {},
                    "output_type": "execute_result"
                }
            ],
            "source": "%sql ibm_db_sa://xks76134:npglfs0j-k5sx39v@dashdb-txn-sbox-yp-dal09-03.services.dal.bluemix.net:50000/BLUDB"
        },
        {
            "cell_type": "markdown",
            "metadata": {},
            "source": "### Query the database system catalog to retrieve table metadata\n\n##### You can verify that the table creation was successful by retrieving the list of all tables in your schema and checking whether the SCHOOLS table was created"
        },
        {
            "cell_type": "code",
            "execution_count": 90,
            "metadata": {},
            "outputs": [
                {
                    "name": "stdout",
                    "output_type": "stream",
                    "text": " * ibm_db_sa://xks76134:***@dashdb-txn-sbox-yp-dal09-03.services.dal.bluemix.net:50000/BLUDB\nDone.\n"
                },
                {
                    "data": {
                        "text/html": "<table>\n    <tr>\n        <th>tabschema</th>\n        <th>tabname</th>\n        <th>create_time</th>\n    </tr>\n    <tr>\n        <td>XKS76134</td>\n        <td>EMPLOYEES</td>\n        <td>2019-12-29 15:12:19.489356</td>\n    </tr>\n    <tr>\n        <td>XKS76134</td>\n        <td>JOB_HISTORY</td>\n        <td>2019-12-29 15:12:19.705731</td>\n    </tr>\n    <tr>\n        <td>XKS76134</td>\n        <td>DEPARTMENTS</td>\n        <td>2019-12-29 15:12:20.051024</td>\n    </tr>\n    <tr>\n        <td>XKS76134</td>\n        <td>LOCATIONS</td>\n        <td>2019-12-29 15:12:20.227385</td>\n    </tr>\n    <tr>\n        <td>XKS76134</td>\n        <td>JOBS</td>\n        <td>2019-12-29 15:53:28.068251</td>\n    </tr>\n    <tr>\n        <td>XKS76134</td>\n        <td>PETSALE</td>\n        <td>2019-12-29 18:45:24.290121</td>\n    </tr>\n    <tr>\n        <td>XKS76134</td>\n        <td>INSTRUCTOR</td>\n        <td>2019-12-30 14:17:11.719886</td>\n    </tr>\n    <tr>\n        <td>XKS76134</td>\n        <td>INTERNATIONAL_STUDENT_TEST_SCORES</td>\n        <td>2019-12-30 14:43:01.848398</td>\n    </tr>\n    <tr>\n        <td>XKS76134</td>\n        <td>CHICAGO_SOCIOECONOMIC_DATA</td>\n        <td>2019-12-30 15:05:57.593857</td>\n    </tr>\n    <tr>\n        <td>XKS76134</td>\n        <td>CHICAGO_PUBLIC_SCHOOLS</td>\n        <td>2019-12-30 16:21:41.000583</td>\n    </tr>\n</table>",
                        "text/plain": "[('XKS76134', 'EMPLOYEES', datetime.datetime(2019, 12, 29, 15, 12, 19, 489356)),\n ('XKS76134', 'JOB_HISTORY', datetime.datetime(2019, 12, 29, 15, 12, 19, 705731)),\n ('XKS76134', 'DEPARTMENTS', datetime.datetime(2019, 12, 29, 15, 12, 20, 51024)),\n ('XKS76134', 'LOCATIONS', datetime.datetime(2019, 12, 29, 15, 12, 20, 227385)),\n ('XKS76134', 'JOBS', datetime.datetime(2019, 12, 29, 15, 53, 28, 68251)),\n ('XKS76134', 'PETSALE', datetime.datetime(2019, 12, 29, 18, 45, 24, 290121)),\n ('XKS76134', 'INSTRUCTOR', datetime.datetime(2019, 12, 30, 14, 17, 11, 719886)),\n ('XKS76134', 'INTERNATIONAL_STUDENT_TEST_SCORES', datetime.datetime(2019, 12, 30, 14, 43, 1, 848398)),\n ('XKS76134', 'CHICAGO_SOCIOECONOMIC_DATA', datetime.datetime(2019, 12, 30, 15, 5, 57, 593857)),\n ('XKS76134', 'CHICAGO_PUBLIC_SCHOOLS', datetime.datetime(2019, 12, 30, 16, 21, 41, 583))]"
                    },
                    "execution_count": 90,
                    "metadata": {},
                    "output_type": "execute_result"
                }
            ],
            "source": "%sql select TABSCHEMA, TABNAME, CREATE_TIME from SYSCAT.TABLES WHERE tabschema='XKS76134'"
        },
        {
            "cell_type": "code",
            "execution_count": 91,
            "metadata": {},
            "outputs": [
                {
                    "name": "stdout",
                    "output_type": "stream",
                    "text": " * ibm_db_sa://xks76134:***@dashdb-txn-sbox-yp-dal09-03.services.dal.bluemix.net:50000/BLUDB\nDone.\n"
                },
                {
                    "data": {
                        "text/html": "<table>\n    <tr>\n        <th>tabschema</th>\n        <th>tabname</th>\n        <th>create_time</th>\n    </tr>\n    <tr>\n        <td>XKS76134</td>\n        <td>CHICAGO_PUBLIC_SCHOOLS</td>\n        <td>2019-12-30 16:21:41.000583</td>\n    </tr>\n</table>",
                        "text/plain": "[('XKS76134', 'CHICAGO_PUBLIC_SCHOOLS', datetime.datetime(2019, 12, 30, 16, 21, 41, 583))]"
                    },
                    "execution_count": 91,
                    "metadata": {},
                    "output_type": "execute_result"
                }
            ],
            "source": "%sql select TABSCHEMA, TABNAME, CREATE_TIME from SYSCAT.TABLES where TABNAME = 'CHICAGO_PUBLIC_SCHOOLS'"
        },
        {
            "cell_type": "markdown",
            "metadata": {},
            "source": "### Query the database system catalog to retrieve column metadata\n\n##### The SCHOOLS table contains a large number of columns. How many columns does this table have?"
        },
        {
            "cell_type": "code",
            "execution_count": 92,
            "metadata": {},
            "outputs": [
                {
                    "name": "stdout",
                    "output_type": "stream",
                    "text": " * ibm_db_sa://xks76134:***@dashdb-txn-sbox-yp-dal09-03.services.dal.bluemix.net:50000/BLUDB\nDone.\n"
                },
                {
                    "data": {
                        "text/html": "<table>\n    <tr>\n        <th>1</th>\n    </tr>\n    <tr>\n        <td>78</td>\n    </tr>\n</table>",
                        "text/plain": "[(Decimal('78'),)]"
                    },
                    "execution_count": 92,
                    "metadata": {},
                    "output_type": "execute_result"
                }
            ],
            "source": "%sql select count(*) from SYSCAT.COLUMNS where TABNAME = 'CHICAGO_PUBLIC_SCHOOLS'"
        },
        {
            "cell_type": "markdown",
            "metadata": {},
            "source": "Now retrieve the the list of columns in SCHOOLS table and their column type (datatype) and length."
        },
        {
            "cell_type": "code",
            "execution_count": 93,
            "metadata": {},
            "outputs": [
                {
                    "name": "stdout",
                    "output_type": "stream",
                    "text": " * ibm_db_sa://xks76134:***@dashdb-txn-sbox-yp-dal09-03.services.dal.bluemix.net:50000/BLUDB\nDone.\n"
                },
                {
                    "data": {
                        "text/html": "<table>\n    <tr>\n        <th>colname</th>\n        <th>typename</th>\n        <th>length</th>\n    </tr>\n    <tr>\n        <td>School_ID</td>\n        <td>INTEGER</td>\n        <td>4</td>\n    </tr>\n    <tr>\n        <td>NAME_OF_SCHOOL</td>\n        <td>VARCHAR</td>\n        <td>65</td>\n    </tr>\n    <tr>\n        <td>Elementary, Middle, or High School</td>\n        <td>VARCHAR</td>\n        <td>2</td>\n    </tr>\n    <tr>\n        <td>Street_Address</td>\n        <td>VARCHAR</td>\n        <td>30</td>\n    </tr>\n    <tr>\n        <td>City</td>\n        <td>VARCHAR</td>\n        <td>7</td>\n    </tr>\n    <tr>\n        <td>State</td>\n        <td>VARCHAR</td>\n        <td>2</td>\n    </tr>\n    <tr>\n        <td>ZIP_Code</td>\n        <td>INTEGER</td>\n        <td>4</td>\n    </tr>\n    <tr>\n        <td>Phone_Number</td>\n        <td>VARCHAR</td>\n        <td>14</td>\n    </tr>\n    <tr>\n        <td>Link</td>\n        <td>VARCHAR</td>\n        <td>78</td>\n    </tr>\n    <tr>\n        <td>Network_Manager</td>\n        <td>VARCHAR</td>\n        <td>40</td>\n    </tr>\n    <tr>\n        <td>Collaborative_Name</td>\n        <td>VARCHAR</td>\n        <td>34</td>\n    </tr>\n    <tr>\n        <td>Adequate_Yearly_Progress_Made_</td>\n        <td>VARCHAR</td>\n        <td>3</td>\n    </tr>\n    <tr>\n        <td>Track_Schedule</td>\n        <td>VARCHAR</td>\n        <td>12</td>\n    </tr>\n    <tr>\n        <td>CPS_Performance_Policy_Status</td>\n        <td>VARCHAR</td>\n        <td>16</td>\n    </tr>\n    <tr>\n        <td>CPS_Performance_Policy_Level</td>\n        <td>VARCHAR</td>\n        <td>15</td>\n    </tr>\n    <tr>\n        <td>HEALTHY_SCHOOL_CERTIFIED</td>\n        <td>VARCHAR</td>\n        <td>3</td>\n    </tr>\n    <tr>\n        <td>Safety_Icon</td>\n        <td>VARCHAR</td>\n        <td>11</td>\n    </tr>\n    <tr>\n        <td>SAFETY_SCORE</td>\n        <td>SMALLINT</td>\n        <td>2</td>\n    </tr>\n    <tr>\n        <td>Family_Involvement_Icon</td>\n        <td>VARCHAR</td>\n        <td>11</td>\n    </tr>\n    <tr>\n        <td>Family_Involvement_Score</td>\n        <td>VARCHAR</td>\n        <td>3</td>\n    </tr>\n    <tr>\n        <td>Environment_Icon</td>\n        <td>VARCHAR</td>\n        <td>11</td>\n    </tr>\n    <tr>\n        <td>Environment_Score</td>\n        <td>SMALLINT</td>\n        <td>2</td>\n    </tr>\n    <tr>\n        <td>Instruction_Icon</td>\n        <td>VARCHAR</td>\n        <td>11</td>\n    </tr>\n    <tr>\n        <td>Instruction_Score</td>\n        <td>SMALLINT</td>\n        <td>2</td>\n    </tr>\n    <tr>\n        <td>Leaders_Icon</td>\n        <td>VARCHAR</td>\n        <td>11</td>\n    </tr>\n    <tr>\n        <td>Leaders_Score</td>\n        <td>VARCHAR</td>\n        <td>3</td>\n    </tr>\n    <tr>\n        <td>Teachers_Icon</td>\n        <td>VARCHAR</td>\n        <td>11</td>\n    </tr>\n    <tr>\n        <td>Teachers_Score</td>\n        <td>VARCHAR</td>\n        <td>3</td>\n    </tr>\n    <tr>\n        <td>Parent_Engagement_Icon</td>\n        <td>VARCHAR</td>\n        <td>7</td>\n    </tr>\n    <tr>\n        <td>Parent_Engagement_Score</td>\n        <td>VARCHAR</td>\n        <td>3</td>\n    </tr>\n    <tr>\n        <td>Parent_Environment_Icon</td>\n        <td>VARCHAR</td>\n        <td>7</td>\n    </tr>\n    <tr>\n        <td>Parent_Environment_Score</td>\n        <td>VARCHAR</td>\n        <td>3</td>\n    </tr>\n    <tr>\n        <td>AVERAGE_STUDENT_ATTENDANCE</td>\n        <td>VARCHAR</td>\n        <td>6</td>\n    </tr>\n    <tr>\n        <td>Rate_of_Misconducts__per_100_students_</td>\n        <td>DECIMAL</td>\n        <td>5</td>\n    </tr>\n    <tr>\n        <td>Average_Teacher_Attendance</td>\n        <td>VARCHAR</td>\n        <td>6</td>\n    </tr>\n    <tr>\n        <td>Individualized_Education_Program_Compliance_Rate</td>\n        <td>VARCHAR</td>\n        <td>7</td>\n    </tr>\n    <tr>\n        <td>Pk_2_Literacy__</td>\n        <td>VARCHAR</td>\n        <td>4</td>\n    </tr>\n    <tr>\n        <td>Pk_2_Math__</td>\n        <td>VARCHAR</td>\n        <td>4</td>\n    </tr>\n    <tr>\n        <td>Gr3_5_Grade_Level_Math__</td>\n        <td>VARCHAR</td>\n        <td>4</td>\n    </tr>\n    <tr>\n        <td>Gr3_5_Grade_Level_Read__</td>\n        <td>VARCHAR</td>\n        <td>4</td>\n    </tr>\n    <tr>\n        <td>Gr3_5_Keep_Pace_Read__</td>\n        <td>VARCHAR</td>\n        <td>4</td>\n    </tr>\n    <tr>\n        <td>Gr3_5_Keep_Pace_Math__</td>\n        <td>VARCHAR</td>\n        <td>4</td>\n    </tr>\n    <tr>\n        <td>Gr6_8_Grade_Level_Math__</td>\n        <td>VARCHAR</td>\n        <td>4</td>\n    </tr>\n    <tr>\n        <td>Gr6_8_Grade_Level_Read__</td>\n        <td>VARCHAR</td>\n        <td>4</td>\n    </tr>\n    <tr>\n        <td>Gr6_8_Keep_Pace_Math_</td>\n        <td>VARCHAR</td>\n        <td>4</td>\n    </tr>\n    <tr>\n        <td>Gr6_8_Keep_Pace_Read__</td>\n        <td>VARCHAR</td>\n        <td>4</td>\n    </tr>\n    <tr>\n        <td>Gr_8_Explore_Math__</td>\n        <td>VARCHAR</td>\n        <td>4</td>\n    </tr>\n    <tr>\n        <td>Gr_8_Explore_Read__</td>\n        <td>VARCHAR</td>\n        <td>4</td>\n    </tr>\n    <tr>\n        <td>ISAT_Exceeding_Math__</td>\n        <td>DECIMAL</td>\n        <td>4</td>\n    </tr>\n    <tr>\n        <td>ISAT_Exceeding_Reading__</td>\n        <td>DECIMAL</td>\n        <td>4</td>\n    </tr>\n    <tr>\n        <td>ISAT_Value_Add_Math</td>\n        <td>DECIMAL</td>\n        <td>3</td>\n    </tr>\n    <tr>\n        <td>ISAT_Value_Add_Read</td>\n        <td>DECIMAL</td>\n        <td>3</td>\n    </tr>\n    <tr>\n        <td>ISAT_Value_Add_Color_Math</td>\n        <td>VARCHAR</td>\n        <td>6</td>\n    </tr>\n    <tr>\n        <td>ISAT_Value_Add_Color_Read</td>\n        <td>VARCHAR</td>\n        <td>6</td>\n    </tr>\n    <tr>\n        <td>Students_Taking__Algebra__</td>\n        <td>VARCHAR</td>\n        <td>4</td>\n    </tr>\n    <tr>\n        <td>Students_Passing__Algebra__</td>\n        <td>VARCHAR</td>\n        <td>4</td>\n    </tr>\n    <tr>\n        <td>9th Grade EXPLORE (2009)</td>\n        <td>VARCHAR</td>\n        <td>4</td>\n    </tr>\n    <tr>\n        <td>9th Grade EXPLORE (2010)</td>\n        <td>VARCHAR</td>\n        <td>4</td>\n    </tr>\n    <tr>\n        <td>10th Grade PLAN (2009)</td>\n        <td>VARCHAR</td>\n        <td>4</td>\n    </tr>\n    <tr>\n        <td>10th Grade PLAN (2010)</td>\n        <td>VARCHAR</td>\n        <td>4</td>\n    </tr>\n    <tr>\n        <td>Net_Change_EXPLORE_and_PLAN</td>\n        <td>VARCHAR</td>\n        <td>3</td>\n    </tr>\n    <tr>\n        <td>11th Grade Average ACT (2011)</td>\n        <td>VARCHAR</td>\n        <td>4</td>\n    </tr>\n    <tr>\n        <td>Net_Change_PLAN_and_ACT</td>\n        <td>VARCHAR</td>\n        <td>3</td>\n    </tr>\n    <tr>\n        <td>College_Eligibility__</td>\n        <td>VARCHAR</td>\n        <td>4</td>\n    </tr>\n    <tr>\n        <td>Graduation_Rate__</td>\n        <td>VARCHAR</td>\n        <td>4</td>\n    </tr>\n    <tr>\n        <td>College_Enrollment_Rate__</td>\n        <td>VARCHAR</td>\n        <td>4</td>\n    </tr>\n    <tr>\n        <td>COLLEGE_ENROLLMENT</td>\n        <td>SMALLINT</td>\n        <td>2</td>\n    </tr>\n    <tr>\n        <td>General_Services_Route</td>\n        <td>SMALLINT</td>\n        <td>2</td>\n    </tr>\n    <tr>\n        <td>Freshman_on_Track_Rate__</td>\n        <td>VARCHAR</td>\n        <td>4</td>\n    </tr>\n    <tr>\n        <td>X_COORDINATE</td>\n        <td>DECIMAL</td>\n        <td>13</td>\n    </tr>\n    <tr>\n        <td>Y_COORDINATE</td>\n        <td>DECIMAL</td>\n        <td>13</td>\n    </tr>\n    <tr>\n        <td>Latitude</td>\n        <td>DECIMAL</td>\n        <td>18</td>\n    </tr>\n    <tr>\n        <td>Longitude</td>\n        <td>DECIMAL</td>\n        <td>18</td>\n    </tr>\n    <tr>\n        <td>COMMUNITY_AREA_NUMBER</td>\n        <td>SMALLINT</td>\n        <td>2</td>\n    </tr>\n    <tr>\n        <td>COMMUNITY_AREA_NAME</td>\n        <td>VARCHAR</td>\n        <td>22</td>\n    </tr>\n    <tr>\n        <td>Ward</td>\n        <td>SMALLINT</td>\n        <td>2</td>\n    </tr>\n    <tr>\n        <td>Police_District</td>\n        <td>SMALLINT</td>\n        <td>2</td>\n    </tr>\n    <tr>\n        <td>Location</td>\n        <td>VARCHAR</td>\n        <td>27</td>\n    </tr>\n</table>",
                        "text/plain": "[('School_ID', 'INTEGER', 4),\n ('NAME_OF_SCHOOL', 'VARCHAR', 65),\n ('Elementary, Middle, or High School', 'VARCHAR', 2),\n ('Street_Address', 'VARCHAR', 30),\n ('City', 'VARCHAR', 7),\n ('State', 'VARCHAR', 2),\n ('ZIP_Code', 'INTEGER', 4),\n ('Phone_Number', 'VARCHAR', 14),\n ('Link', 'VARCHAR', 78),\n ('Network_Manager', 'VARCHAR', 40),\n ('Collaborative_Name', 'VARCHAR', 34),\n ('Adequate_Yearly_Progress_Made_', 'VARCHAR', 3),\n ('Track_Schedule', 'VARCHAR', 12),\n ('CPS_Performance_Policy_Status', 'VARCHAR', 16),\n ('CPS_Performance_Policy_Level', 'VARCHAR', 15),\n ('HEALTHY_SCHOOL_CERTIFIED', 'VARCHAR', 3),\n ('Safety_Icon', 'VARCHAR', 11),\n ('SAFETY_SCORE', 'SMALLINT', 2),\n ('Family_Involvement_Icon', 'VARCHAR', 11),\n ('Family_Involvement_Score', 'VARCHAR', 3),\n ('Environment_Icon', 'VARCHAR', 11),\n ('Environment_Score', 'SMALLINT', 2),\n ('Instruction_Icon', 'VARCHAR', 11),\n ('Instruction_Score', 'SMALLINT', 2),\n ('Leaders_Icon', 'VARCHAR', 11),\n ('Leaders_Score', 'VARCHAR', 3),\n ('Teachers_Icon', 'VARCHAR', 11),\n ('Teachers_Score', 'VARCHAR', 3),\n ('Parent_Engagement_Icon', 'VARCHAR', 7),\n ('Parent_Engagement_Score', 'VARCHAR', 3),\n ('Parent_Environment_Icon', 'VARCHAR', 7),\n ('Parent_Environment_Score', 'VARCHAR', 3),\n ('AVERAGE_STUDENT_ATTENDANCE', 'VARCHAR', 6),\n ('Rate_of_Misconducts__per_100_students_', 'DECIMAL', 5),\n ('Average_Teacher_Attendance', 'VARCHAR', 6),\n ('Individualized_Education_Program_Compliance_Rate', 'VARCHAR', 7),\n ('Pk_2_Literacy__', 'VARCHAR', 4),\n ('Pk_2_Math__', 'VARCHAR', 4),\n ('Gr3_5_Grade_Level_Math__', 'VARCHAR', 4),\n ('Gr3_5_Grade_Level_Read__', 'VARCHAR', 4),\n ('Gr3_5_Keep_Pace_Read__', 'VARCHAR', 4),\n ('Gr3_5_Keep_Pace_Math__', 'VARCHAR', 4),\n ('Gr6_8_Grade_Level_Math__', 'VARCHAR', 4),\n ('Gr6_8_Grade_Level_Read__', 'VARCHAR', 4),\n ('Gr6_8_Keep_Pace_Math_', 'VARCHAR', 4),\n ('Gr6_8_Keep_Pace_Read__', 'VARCHAR', 4),\n ('Gr_8_Explore_Math__', 'VARCHAR', 4),\n ('Gr_8_Explore_Read__', 'VARCHAR', 4),\n ('ISAT_Exceeding_Math__', 'DECIMAL', 4),\n ('ISAT_Exceeding_Reading__', 'DECIMAL', 4),\n ('ISAT_Value_Add_Math', 'DECIMAL', 3),\n ('ISAT_Value_Add_Read', 'DECIMAL', 3),\n ('ISAT_Value_Add_Color_Math', 'VARCHAR', 6),\n ('ISAT_Value_Add_Color_Read', 'VARCHAR', 6),\n ('Students_Taking__Algebra__', 'VARCHAR', 4),\n ('Students_Passing__Algebra__', 'VARCHAR', 4),\n ('9th Grade EXPLORE (2009)', 'VARCHAR', 4),\n ('9th Grade EXPLORE (2010)', 'VARCHAR', 4),\n ('10th Grade PLAN (2009)', 'VARCHAR', 4),\n ('10th Grade PLAN (2010)', 'VARCHAR', 4),\n ('Net_Change_EXPLORE_and_PLAN', 'VARCHAR', 3),\n ('11th Grade Average ACT (2011)', 'VARCHAR', 4),\n ('Net_Change_PLAN_and_ACT', 'VARCHAR', 3),\n ('College_Eligibility__', 'VARCHAR', 4),\n ('Graduation_Rate__', 'VARCHAR', 4),\n ('College_Enrollment_Rate__', 'VARCHAR', 4),\n ('COLLEGE_ENROLLMENT', 'SMALLINT', 2),\n ('General_Services_Route', 'SMALLINT', 2),\n ('Freshman_on_Track_Rate__', 'VARCHAR', 4),\n ('X_COORDINATE', 'DECIMAL', 13),\n ('Y_COORDINATE', 'DECIMAL', 13),\n ('Latitude', 'DECIMAL', 18),\n ('Longitude', 'DECIMAL', 18),\n ('COMMUNITY_AREA_NUMBER', 'SMALLINT', 2),\n ('COMMUNITY_AREA_NAME', 'VARCHAR', 22),\n ('Ward', 'SMALLINT', 2),\n ('Police_District', 'SMALLINT', 2),\n ('Location', 'VARCHAR', 27)]"
                    },
                    "execution_count": 93,
                    "metadata": {},
                    "output_type": "execute_result"
                }
            ],
            "source": "%sql select COLNAME, TYPENAME, LENGTH from SYSCAT.COLUMNS where TABNAME = 'CHICAGO_PUBLIC_SCHOOLS'"
        },
        {
            "cell_type": "markdown",
            "metadata": {},
            "source": "## Problems\n\n### Problem 1\n\n##### How many Elementary Schools are in the dataset?"
        },
        {
            "cell_type": "code",
            "execution_count": 99,
            "metadata": {},
            "outputs": [
                {
                    "name": "stdout",
                    "output_type": "stream",
                    "text": " * ibm_db_sa://xks76134:***@dashdb-txn-sbox-yp-dal09-03.services.dal.bluemix.net:50000/BLUDB\nDone.\nDone.\n"
                },
                {
                    "data": {
                        "text/html": "<table>\n    <tr>\n        <th>1</th>\n    </tr>\n    <tr>\n        <td>462</td>\n    </tr>\n</table>",
                        "text/plain": "[(Decimal('462'),)]"
                    },
                    "execution_count": 99,
                    "metadata": {},
                    "output_type": "execute_result"
                }
            ],
            "source": "%%sql\n\nselect distinct(\"Elementary, Middle, or High School\") from CHICAGO_PUBLIC_SCHOOLS;\nselect count(\"Elementary, Middle, or High School\") from CHICAGO_PUBLIC_SCHOOLS WHERE \"Elementary, Middle, or High School\"='ES'"
        },
        {
            "cell_type": "markdown",
            "metadata": {},
            "source": "### Problem 2\n\n##### What is the highest Safety Score?"
        },
        {
            "cell_type": "code",
            "execution_count": 101,
            "metadata": {},
            "outputs": [
                {
                    "name": "stdout",
                    "output_type": "stream",
                    "text": " * ibm_db_sa://xks76134:***@dashdb-txn-sbox-yp-dal09-03.services.dal.bluemix.net:50000/BLUDB\nDone.\n"
                },
                {
                    "data": {
                        "text/html": "<table>\n    <tr>\n        <th>max</th>\n    </tr>\n    <tr>\n        <td>99</td>\n    </tr>\n</table>",
                        "text/plain": "[(99,)]"
                    },
                    "execution_count": 101,
                    "metadata": {},
                    "output_type": "execute_result"
                }
            ],
            "source": "%sql SELECT MAX(SAFETY_SCORE) as \"max\" FROM CHICAGO_PUBLIC_SCHOOLS;"
        },
        {
            "cell_type": "markdown",
            "metadata": {},
            "source": "### Problem 3\n\n##### Which schools have highest Safety Score?"
        },
        {
            "cell_type": "code",
            "execution_count": 105,
            "metadata": {
                "collapsed": true
            },
            "outputs": [
                {
                    "name": "stdout",
                    "output_type": "stream",
                    "text": " * ibm_db_sa://xks76134:***@dashdb-txn-sbox-yp-dal09-03.services.dal.bluemix.net:50000/BLUDB\nDone.\n"
                },
                {
                    "data": {
                        "text/html": "<table>\n    <tr>\n        <th>name_of_school</th>\n        <th>safety_score</th>\n    </tr>\n    <tr>\n        <td>Abraham Lincoln Elementary School</td>\n        <td>99</td>\n    </tr>\n    <tr>\n        <td>Alexander Graham Bell Elementary School</td>\n        <td>99</td>\n    </tr>\n    <tr>\n        <td>Annie Keller Elementary Gifted Magnet School</td>\n        <td>99</td>\n    </tr>\n    <tr>\n        <td>Augustus H Burley Elementary School</td>\n        <td>99</td>\n    </tr>\n    <tr>\n        <td>Edgar Allan Poe Elementary Classical School</td>\n        <td>99</td>\n    </tr>\n    <tr>\n        <td>Edgebrook Elementary School</td>\n        <td>99</td>\n    </tr>\n    <tr>\n        <td>Ellen Mitchell Elementary School</td>\n        <td>99</td>\n    </tr>\n    <tr>\n        <td>James E McDade Elementary Classical School</td>\n        <td>99</td>\n    </tr>\n    <tr>\n        <td>James G Blaine Elementary School</td>\n        <td>99</td>\n    </tr>\n    <tr>\n        <td>LaSalle Elementary Language Academy</td>\n        <td>99</td>\n    </tr>\n    <tr>\n        <td>Mary E Courtenay Elementary Language Arts Center</td>\n        <td>99</td>\n    </tr>\n    <tr>\n        <td>Northside College Preparatory High School</td>\n        <td>99</td>\n    </tr>\n    <tr>\n        <td>Northside Learning Center High School</td>\n        <td>99</td>\n    </tr>\n    <tr>\n        <td>Norwood Park Elementary School</td>\n        <td>99</td>\n    </tr>\n    <tr>\n        <td>Oriole Park Elementary School</td>\n        <td>99</td>\n    </tr>\n    <tr>\n        <td>Sauganash Elementary School</td>\n        <td>99</td>\n    </tr>\n    <tr>\n        <td>Stephen Decatur Classical Elementary School</td>\n        <td>99</td>\n    </tr>\n    <tr>\n        <td>Talman Elementary School</td>\n        <td>99</td>\n    </tr>\n    <tr>\n        <td>Wildwood Elementary School</td>\n        <td>99</td>\n    </tr>\n</table>",
                        "text/plain": "[('Abraham Lincoln Elementary School', 99),\n ('Alexander Graham Bell Elementary School', 99),\n ('Annie Keller Elementary Gifted Magnet School', 99),\n ('Augustus H Burley Elementary School', 99),\n ('Edgar Allan Poe Elementary Classical School', 99),\n ('Edgebrook Elementary School', 99),\n ('Ellen Mitchell Elementary School', 99),\n ('James E McDade Elementary Classical School', 99),\n ('James G Blaine Elementary School', 99),\n ('LaSalle Elementary Language Academy', 99),\n ('Mary E Courtenay Elementary Language Arts Center', 99),\n ('Northside College Preparatory High School', 99),\n ('Northside Learning Center High School', 99),\n ('Norwood Park Elementary School', 99),\n ('Oriole Park Elementary School', 99),\n ('Sauganash Elementary School', 99),\n ('Stephen Decatur Classical Elementary School', 99),\n ('Talman Elementary School', 99),\n ('Wildwood Elementary School', 99)]"
                    },
                    "execution_count": 105,
                    "metadata": {},
                    "output_type": "execute_result"
                }
            ],
            "source": "%sql select NAME_OF_SCHOOL, SAFETY_SCORE from CHICAGO_PUBLIC_SCHOOLS where \\\n    SAFETY_SCORE in (SELECT MAX(SAFETY_SCORE) FROM CHICAGO_PUBLIC_SCHOOLS)"
        },
        {
            "cell_type": "markdown",
            "metadata": {},
            "source": "### Problem 4\n\n##### What are the top 10 schools with the highest \"Average Student Attendance\"?\n"
        },
        {
            "cell_type": "code",
            "execution_count": 132,
            "metadata": {},
            "outputs": [
                {
                    "name": "stdout",
                    "output_type": "stream",
                    "text": " * ibm_db_sa://xks76134:***@dashdb-txn-sbox-yp-dal09-03.services.dal.bluemix.net:50000/BLUDB\nDone.\n"
                },
                {
                    "data": {
                        "text/html": "<table>\n    <tr>\n        <th>name_of_school</th>\n        <th>average_student_attendance</th>\n    </tr>\n    <tr>\n        <td>John Charles Haines Elementary School</td>\n        <td>98.40%</td>\n    </tr>\n    <tr>\n        <td>James Ward Elementary School</td>\n        <td>97.80%</td>\n    </tr>\n    <tr>\n        <td>Edgar Allan Poe Elementary Classical School</td>\n        <td>97.60%</td>\n    </tr>\n    <tr>\n        <td>Orozco Fine Arts &amp; Sciences Elementary School</td>\n        <td>97.60%</td>\n    </tr>\n    <tr>\n        <td>Rachel Carson Elementary School</td>\n        <td>97.60%</td>\n    </tr>\n    <tr>\n        <td>Annie Keller Elementary Gifted Magnet School</td>\n        <td>97.50%</td>\n    </tr>\n    <tr>\n        <td>Andrew Jackson Elementary Language Academy</td>\n        <td>97.40%</td>\n    </tr>\n    <tr>\n        <td>Lenart Elementary Regional Gifted Center</td>\n        <td>97.40%</td>\n    </tr>\n    <tr>\n        <td>Disney II Magnet School</td>\n        <td>97.30%</td>\n    </tr>\n    <tr>\n        <td>John H Vanderpoel Elementary Magnet School</td>\n        <td>97.20%</td>\n    </tr>\n</table>",
                        "text/plain": "[('John Charles Haines Elementary School', '98.40%'),\n ('James Ward Elementary School', '97.80%'),\n ('Edgar Allan Poe Elementary Classical School', '97.60%'),\n ('Orozco Fine Arts & Sciences Elementary School', '97.60%'),\n ('Rachel Carson Elementary School', '97.60%'),\n ('Annie Keller Elementary Gifted Magnet School', '97.50%'),\n ('Andrew Jackson Elementary Language Academy', '97.40%'),\n ('Lenart Elementary Regional Gifted Center', '97.40%'),\n ('Disney II Magnet School', '97.30%'),\n ('John H Vanderpoel Elementary Magnet School', '97.20%')]"
                    },
                    "execution_count": 132,
                    "metadata": {},
                    "output_type": "execute_result"
                }
            ],
            "source": "%sql select NAME_OF_SCHOOL, AVERAGE_STUDENT_ATTENDANCE from CHICAGO_PUBLIC_SCHOOLS \\\n    order by Average_Student_Attendance desc nulls last limit 10"
        },
        {
            "cell_type": "markdown",
            "metadata": {},
            "source": "### Problem 5\n\n##### Retrieve the list of 5 Schools with the lowest Average Student Attendance sorted in ascending order based on attendance"
        },
        {
            "cell_type": "code",
            "execution_count": 126,
            "metadata": {},
            "outputs": [
                {
                    "name": "stdout",
                    "output_type": "stream",
                    "text": " * ibm_db_sa://xks76134:***@dashdb-txn-sbox-yp-dal09-03.services.dal.bluemix.net:50000/BLUDB\nDone.\n"
                },
                {
                    "data": {
                        "text/html": "<table>\n    <tr>\n        <th>name_of_school</th>\n        <th>average_student_attendance</th>\n    </tr>\n    <tr>\n        <td>Richard T Crane Technical Preparatory High School</td>\n        <td>57.90%</td>\n    </tr>\n    <tr>\n        <td>Barbara Vick Early Childhood &amp; Family Center</td>\n        <td>60.90%</td>\n    </tr>\n    <tr>\n        <td>Dyett High School</td>\n        <td>62.50%</td>\n    </tr>\n    <tr>\n        <td>Wendell Phillips Academy High School</td>\n        <td>63.00%</td>\n    </tr>\n    <tr>\n        <td>Orr Academy High School</td>\n        <td>66.30%</td>\n    </tr>\n</table>",
                        "text/plain": "[('Richard T Crane Technical Preparatory High School', '57.90%'),\n ('Barbara Vick Early Childhood & Family Center', '60.90%'),\n ('Dyett High School', '62.50%'),\n ('Wendell Phillips Academy High School', '63.00%'),\n ('Orr Academy High School', '66.30%')]"
                    },
                    "execution_count": 126,
                    "metadata": {},
                    "output_type": "execute_result"
                }
            ],
            "source": "%sql select NAME_OF_SCHOOL as NAME_OF_SCHOOL, AVERAGE_STUDENT_ATTENDANCE as AVERAGE_STUDENT_ATTENDANCE from CHICAGO_PUBLIC_SCHOOLS \\\n    order by AVERAGE_STUDENT_ATTENDANCE \\\n    fetch first 5 rows only"
        },
        {
            "cell_type": "markdown",
            "metadata": {},
            "source": "### Problem 6\n\n##### Now remove the '%' sign from the above result set for Average Student Attendance column"
        },
        {
            "cell_type": "code",
            "execution_count": 130,
            "metadata": {},
            "outputs": [
                {
                    "name": "stdout",
                    "output_type": "stream",
                    "text": " * ibm_db_sa://xks76134:***@dashdb-txn-sbox-yp-dal09-03.services.dal.bluemix.net:50000/BLUDB\nDone.\n"
                },
                {
                    "data": {
                        "text/html": "<table>\n    <tr>\n        <th>name_of_school</th>\n        <th>2</th>\n    </tr>\n    <tr>\n        <td>Richard T Crane Technical Preparatory High School</td>\n        <td>57.90</td>\n    </tr>\n    <tr>\n        <td>Barbara Vick Early Childhood &amp; Family Center</td>\n        <td>60.90</td>\n    </tr>\n    <tr>\n        <td>Dyett High School</td>\n        <td>62.50</td>\n    </tr>\n    <tr>\n        <td>Wendell Phillips Academy High School</td>\n        <td>63.00</td>\n    </tr>\n    <tr>\n        <td>Orr Academy High School</td>\n        <td>66.30</td>\n    </tr>\n</table>",
                        "text/plain": "[('Richard T Crane Technical Preparatory High School', '57.90'),\n ('Barbara Vick Early Childhood & Family Center', '60.90'),\n ('Dyett High School', '62.50'),\n ('Wendell Phillips Academy High School', '63.00'),\n ('Orr Academy High School', '66.30')]"
                    },
                    "execution_count": 130,
                    "metadata": {},
                    "output_type": "execute_result"
                }
            ],
            "source": "%sql SELECT Name_of_School, REPLACE(Average_Student_Attendance, '%', '') \\\n     from CHICAGO_PUBLIC_SCHOOLS \\\n     order by Average_Student_Attendance \\\n     fetch first 5 rows only"
        },
        {
            "cell_type": "markdown",
            "metadata": {},
            "source": "### Problem 7\n\n##### Which Schools have Average Student Attendance lower than 70%?"
        },
        {
            "cell_type": "code",
            "execution_count": 139,
            "metadata": {},
            "outputs": [
                {
                    "name": "stdout",
                    "output_type": "stream",
                    "text": " * ibm_db_sa://xks76134:***@dashdb-txn-sbox-yp-dal09-03.services.dal.bluemix.net:50000/BLUDB\nDone.\n"
                },
                {
                    "data": {
                        "text/html": "<table>\n    <tr>\n        <th>name_of_school</th>\n        <th>average_student_attendance</th>\n    </tr>\n    <tr>\n        <td>Richard T Crane Technical Preparatory High School</td>\n        <td>57.90%</td>\n    </tr>\n    <tr>\n        <td>Barbara Vick Early Childhood &amp; Family Center</td>\n        <td>60.90%</td>\n    </tr>\n    <tr>\n        <td>Dyett High School</td>\n        <td>62.50%</td>\n    </tr>\n    <tr>\n        <td>Wendell Phillips Academy High School</td>\n        <td>63.00%</td>\n    </tr>\n    <tr>\n        <td>Orr Academy High School</td>\n        <td>66.30%</td>\n    </tr>\n    <tr>\n        <td>Manley Career Academy High School</td>\n        <td>66.80%</td>\n    </tr>\n    <tr>\n        <td>Chicago Vocational Career Academy High School</td>\n        <td>68.80%</td>\n    </tr>\n    <tr>\n        <td>Roberto Clemente Community Academy High School</td>\n        <td>69.60%</td>\n    </tr>\n</table>",
                        "text/plain": "[('Richard T Crane Technical Preparatory High School', '57.90%'),\n ('Barbara Vick Early Childhood & Family Center', '60.90%'),\n ('Dyett High School', '62.50%'),\n ('Wendell Phillips Academy High School', '63.00%'),\n ('Orr Academy High School', '66.30%'),\n ('Manley Career Academy High School', '66.80%'),\n ('Chicago Vocational Career Academy High School', '68.80%'),\n ('Roberto Clemente Community Academy High School', '69.60%')]"
                    },
                    "execution_count": 139,
                    "metadata": {},
                    "output_type": "execute_result"
                }
            ],
            "source": "%sql select Name_of_School, Average_Student_Attendance from CHICAGO_PUBLIC_SCHOOLS \\\n    where DECIMAL(REPLACE(Average_Student_Attendance, '%', '')) < 70 \\\n    order by Average_Student_Attendance"
        },
        {
            "cell_type": "markdown",
            "metadata": {},
            "source": "### Problem 8\n\n##### Get the total College Enrollment for each Community Area"
        },
        {
            "cell_type": "code",
            "execution_count": 142,
            "metadata": {},
            "outputs": [
                {
                    "name": "stdout",
                    "output_type": "stream",
                    "text": " * ibm_db_sa://xks76134:***@dashdb-txn-sbox-yp-dal09-03.services.dal.bluemix.net:50000/BLUDB\nDone.\n"
                },
                {
                    "data": {
                        "text/html": "<table>\n    <tr>\n        <th>community_area_name</th>\n        <th>total College Enrollment</th>\n    </tr>\n    <tr>\n        <td>ALBANY PARK</td>\n        <td>6864</td>\n    </tr>\n    <tr>\n        <td>ARCHER HEIGHTS</td>\n        <td>4823</td>\n    </tr>\n    <tr>\n        <td>ARMOUR SQUARE</td>\n        <td>1458</td>\n    </tr>\n    <tr>\n        <td>ASHBURN</td>\n        <td>6483</td>\n    </tr>\n    <tr>\n        <td>AUBURN GRESHAM</td>\n        <td>4175</td>\n    </tr>\n    <tr>\n        <td>AUSTIN</td>\n        <td>10933</td>\n    </tr>\n    <tr>\n        <td>AVALON PARK</td>\n        <td>1522</td>\n    </tr>\n    <tr>\n        <td>AVONDALE</td>\n        <td>3640</td>\n    </tr>\n    <tr>\n        <td>BELMONT CRAGIN</td>\n        <td>14386</td>\n    </tr>\n    <tr>\n        <td>BEVERLY</td>\n        <td>1636</td>\n    </tr>\n    <tr>\n        <td>BRIDGEPORT</td>\n        <td>3167</td>\n    </tr>\n    <tr>\n        <td>BRIGHTON PARK</td>\n        <td>9647</td>\n    </tr>\n    <tr>\n        <td>BURNSIDE</td>\n        <td>549</td>\n    </tr>\n    <tr>\n        <td>CALUMET HEIGHTS</td>\n        <td>1568</td>\n    </tr>\n    <tr>\n        <td>CHATHAM</td>\n        <td>5042</td>\n    </tr>\n    <tr>\n        <td>CHICAGO LAWN</td>\n        <td>7086</td>\n    </tr>\n    <tr>\n        <td>CLEARING</td>\n        <td>2085</td>\n    </tr>\n    <tr>\n        <td>DOUGLAS</td>\n        <td>4670</td>\n    </tr>\n    <tr>\n        <td>DUNNING</td>\n        <td>4568</td>\n    </tr>\n    <tr>\n        <td>EAST GARFIELD PARK</td>\n        <td>5337</td>\n    </tr>\n    <tr>\n        <td>EAST SIDE</td>\n        <td>5305</td>\n    </tr>\n    <tr>\n        <td>EDGEWATER</td>\n        <td>4600</td>\n    </tr>\n    <tr>\n        <td>EDISON PARK</td>\n        <td>910</td>\n    </tr>\n    <tr>\n        <td>ENGLEWOOD</td>\n        <td>6832</td>\n    </tr>\n    <tr>\n        <td>FOREST GLEN</td>\n        <td>1431</td>\n    </tr>\n    <tr>\n        <td>FULLER PARK</td>\n        <td>531</td>\n    </tr>\n    <tr>\n        <td>GAGE PARK</td>\n        <td>9915</td>\n    </tr>\n    <tr>\n        <td>GARFIELD RIDGE</td>\n        <td>4552</td>\n    </tr>\n    <tr>\n        <td>GRAND BOULEVARD</td>\n        <td>2809</td>\n    </tr>\n    <tr>\n        <td>GREATER GRAND CROSSING</td>\n        <td>4051</td>\n    </tr>\n    <tr>\n        <td>HEGEWISCH</td>\n        <td>963</td>\n    </tr>\n    <tr>\n        <td>HERMOSA</td>\n        <td>3975</td>\n    </tr>\n    <tr>\n        <td>HUMBOLDT PARK</td>\n        <td>8620</td>\n    </tr>\n    <tr>\n        <td>HYDE PARK</td>\n        <td>1930</td>\n    </tr>\n    <tr>\n        <td>IRVING PARK</td>\n        <td>7764</td>\n    </tr>\n    <tr>\n        <td>JEFFERSON PARK</td>\n        <td>1755</td>\n    </tr>\n    <tr>\n        <td>KENWOOD</td>\n        <td>4287</td>\n    </tr>\n    <tr>\n        <td>LAKE VIEW</td>\n        <td>7055</td>\n    </tr>\n    <tr>\n        <td>LINCOLN PARK</td>\n        <td>5615</td>\n    </tr>\n    <tr>\n        <td>LINCOLN SQUARE</td>\n        <td>4132</td>\n    </tr>\n    <tr>\n        <td>LOGAN SQUARE</td>\n        <td>7351</td>\n    </tr>\n    <tr>\n        <td>LOOP</td>\n        <td>871</td>\n    </tr>\n    <tr>\n        <td>LOWER WEST SIDE</td>\n        <td>7257</td>\n    </tr>\n    <tr>\n        <td>MCKINLEY PARK</td>\n        <td>1552</td>\n    </tr>\n    <tr>\n        <td>MONTCLARE</td>\n        <td>1317</td>\n    </tr>\n    <tr>\n        <td>MORGAN PARK</td>\n        <td>3271</td>\n    </tr>\n    <tr>\n        <td>MOUNT GREENWOOD</td>\n        <td>2091</td>\n    </tr>\n    <tr>\n        <td>NEAR NORTH SIDE</td>\n        <td>3362</td>\n    </tr>\n    <tr>\n        <td>NEAR SOUTH SIDE</td>\n        <td>1378</td>\n    </tr>\n    <tr>\n        <td>NEAR WEST SIDE</td>\n        <td>7975</td>\n    </tr>\n    <tr>\n        <td>NEW CITY</td>\n        <td>7922</td>\n    </tr>\n    <tr>\n        <td>NORTH CENTER</td>\n        <td>7541</td>\n    </tr>\n    <tr>\n        <td>NORTH LAWNDALE</td>\n        <td>5146</td>\n    </tr>\n    <tr>\n        <td>NORTH PARK</td>\n        <td>4210</td>\n    </tr>\n    <tr>\n        <td>NORWOOD PARK</td>\n        <td>6469</td>\n    </tr>\n    <tr>\n        <td>OAKLAND</td>\n        <td>140</td>\n    </tr>\n    <tr>\n        <td>OHARE</td>\n        <td>786</td>\n    </tr>\n    <tr>\n        <td>PORTAGE PARK</td>\n        <td>6954</td>\n    </tr>\n    <tr>\n        <td>PULLMAN</td>\n        <td>1620</td>\n    </tr>\n    <tr>\n        <td>RIVERDALE</td>\n        <td>1547</td>\n    </tr>\n    <tr>\n        <td>ROGERS PARK</td>\n        <td>4068</td>\n    </tr>\n    <tr>\n        <td>ROSELAND</td>\n        <td>7020</td>\n    </tr>\n    <tr>\n        <td>SOUTH CHICAGO</td>\n        <td>4043</td>\n    </tr>\n    <tr>\n        <td>SOUTH DEERING</td>\n        <td>1859</td>\n    </tr>\n    <tr>\n        <td>SOUTH LAWNDALE</td>\n        <td>14793</td>\n    </tr>\n    <tr>\n        <td>SOUTH SHORE</td>\n        <td>4543</td>\n    </tr>\n    <tr>\n        <td>UPTOWN</td>\n        <td>4388</td>\n    </tr>\n    <tr>\n        <td>WASHINGTON HEIGHTS</td>\n        <td>4006</td>\n    </tr>\n    <tr>\n        <td>WASHINGTON PARK</td>\n        <td>2648</td>\n    </tr>\n    <tr>\n        <td>WEST ELSDON</td>\n        <td>3700</td>\n    </tr>\n    <tr>\n        <td>WEST ENGLEWOOD</td>\n        <td>5946</td>\n    </tr>\n    <tr>\n        <td>WEST GARFIELD PARK</td>\n        <td>2622</td>\n    </tr>\n    <tr>\n        <td>WEST LAWN</td>\n        <td>4207</td>\n    </tr>\n    <tr>\n        <td>WEST PULLMAN</td>\n        <td>3240</td>\n    </tr>\n    <tr>\n        <td>WEST RIDGE</td>\n        <td>8197</td>\n    </tr>\n    <tr>\n        <td>WEST TOWN</td>\n        <td>9429</td>\n    </tr>\n    <tr>\n        <td>WOODLAWN</td>\n        <td>4206</td>\n    </tr>\n</table>",
                        "text/plain": "[('ALBANY PARK', 6864),\n ('ARCHER HEIGHTS', 4823),\n ('ARMOUR SQUARE', 1458),\n ('ASHBURN', 6483),\n ('AUBURN GRESHAM', 4175),\n ('AUSTIN', 10933),\n ('AVALON PARK', 1522),\n ('AVONDALE', 3640),\n ('BELMONT CRAGIN', 14386),\n ('BEVERLY', 1636),\n ('BRIDGEPORT', 3167),\n ('BRIGHTON PARK', 9647),\n ('BURNSIDE', 549),\n ('CALUMET HEIGHTS', 1568),\n ('CHATHAM', 5042),\n ('CHICAGO LAWN', 7086),\n ('CLEARING', 2085),\n ('DOUGLAS', 4670),\n ('DUNNING', 4568),\n ('EAST GARFIELD PARK', 5337),\n ('EAST SIDE', 5305),\n ('EDGEWATER', 4600),\n ('EDISON PARK', 910),\n ('ENGLEWOOD', 6832),\n ('FOREST GLEN', 1431),\n ('FULLER PARK', 531),\n ('GAGE PARK', 9915),\n ('GARFIELD RIDGE', 4552),\n ('GRAND BOULEVARD', 2809),\n ('GREATER GRAND CROSSING', 4051),\n ('HEGEWISCH', 963),\n ('HERMOSA', 3975),\n ('HUMBOLDT PARK', 8620),\n ('HYDE PARK', 1930),\n ('IRVING PARK', 7764),\n ('JEFFERSON PARK', 1755),\n ('KENWOOD', 4287),\n ('LAKE VIEW', 7055),\n ('LINCOLN PARK', 5615),\n ('LINCOLN SQUARE', 4132),\n ('LOGAN SQUARE', 7351),\n ('LOOP', 871),\n ('LOWER WEST SIDE', 7257),\n ('MCKINLEY PARK', 1552),\n ('MONTCLARE', 1317),\n ('MORGAN PARK', 3271),\n ('MOUNT GREENWOOD', 2091),\n ('NEAR NORTH SIDE', 3362),\n ('NEAR SOUTH SIDE', 1378),\n ('NEAR WEST SIDE', 7975),\n ('NEW CITY', 7922),\n ('NORTH CENTER', 7541),\n ('NORTH LAWNDALE', 5146),\n ('NORTH PARK', 4210),\n ('NORWOOD PARK', 6469),\n ('OAKLAND', 140),\n ('OHARE', 786),\n ('PORTAGE PARK', 6954),\n ('PULLMAN', 1620),\n ('RIVERDALE', 1547),\n ('ROGERS PARK', 4068),\n ('ROSELAND', 7020),\n ('SOUTH CHICAGO', 4043),\n ('SOUTH DEERING', 1859),\n ('SOUTH LAWNDALE', 14793),\n ('SOUTH SHORE', 4543),\n ('UPTOWN', 4388),\n ('WASHINGTON HEIGHTS', 4006),\n ('WASHINGTON PARK', 2648),\n ('WEST ELSDON', 3700),\n ('WEST ENGLEWOOD', 5946),\n ('WEST GARFIELD PARK', 2622),\n ('WEST LAWN', 4207),\n ('WEST PULLMAN', 3240),\n ('WEST RIDGE', 8197),\n ('WEST TOWN', 9429),\n ('WOODLAWN', 4206)]"
                    },
                    "execution_count": 142,
                    "metadata": {},
                    "output_type": "execute_result"
                }
            ],
            "source": "%sql select COMMUNITY_AREA_NAME, sum(COLLEGE_ENROLLMENT) as \"total College Enrollment\" \\\n    from CHICAGO_PUBLIC_SCHOOLS \\\n    group by COMMUNITY_AREA_NAME;"
        },
        {
            "cell_type": "markdown",
            "metadata": {},
            "source": "### Problem 9\n\n##### Get the 5 Community Areas with the least total College Enrollment  sorted in ascending order "
        },
        {
            "cell_type": "code",
            "execution_count": 143,
            "metadata": {},
            "outputs": [
                {
                    "name": "stdout",
                    "output_type": "stream",
                    "text": " * ibm_db_sa://xks76134:***@dashdb-txn-sbox-yp-dal09-03.services.dal.bluemix.net:50000/BLUDB\nDone.\n"
                },
                {
                    "data": {
                        "text/html": "<table>\n    <tr>\n        <th>community_area_name</th>\n        <th>total College Enrollment</th>\n    </tr>\n    <tr>\n        <td>OAKLAND</td>\n        <td>140</td>\n    </tr>\n    <tr>\n        <td>FULLER PARK</td>\n        <td>531</td>\n    </tr>\n    <tr>\n        <td>BURNSIDE</td>\n        <td>549</td>\n    </tr>\n    <tr>\n        <td>OHARE</td>\n        <td>786</td>\n    </tr>\n    <tr>\n        <td>LOOP</td>\n        <td>871</td>\n    </tr>\n</table>",
                        "text/plain": "[('OAKLAND', 140),\n ('FULLER PARK', 531),\n ('BURNSIDE', 549),\n ('OHARE', 786),\n ('LOOP', 871)]"
                    },
                    "execution_count": 143,
                    "metadata": {},
                    "output_type": "execute_result"
                }
            ],
            "source": "%sql select COMMUNITY_AREA_NAME, sum(COLLEGE_ENROLLMENT) as \"total College Enrollment\" \\\n    from CHICAGO_PUBLIC_SCHOOLS \\\n    group by COMMUNITY_AREA_NAME \\\n    order by sum(COLLEGE_ENROLLMENT) \\\n    fetch first 5 rows only"
        },
        {
            "cell_type": "markdown",
            "metadata": {},
            "source": "### Problem 10\n\n##### Get the hardship index for the community area which has College Enrollment of 4638"
        },
        {
            "cell_type": "code",
            "execution_count": 147,
            "metadata": {},
            "outputs": [
                {
                    "name": "stdout",
                    "output_type": "stream",
                    "text": " * ibm_db_sa://xks76134:***@dashdb-txn-sbox-yp-dal09-03.services.dal.bluemix.net:50000/BLUDB\nDone.\n"
                },
                {
                    "data": {
                        "text/html": "<table>\n    <tr>\n        <th>hardship_index</th>\n    </tr>\n    <tr>\n        <td>6.0</td>\n    </tr>\n</table>",
                        "text/plain": "[(6.0,)]"
                    },
                    "execution_count": 147,
                    "metadata": {},
                    "output_type": "execute_result"
                }
            ],
            "source": "%sql select hardship_index \\\n    FROM chicago_socioeconomic_data CD, CHICAGO_PUBLIC_SCHOOLS CPS \\\n    WHERE CD.ca = CPS.community_area_number \\\n        and college_enrollment = 4368"
        },
        {
            "cell_type": "markdown",
            "metadata": {},
            "source": "### Problem 11\n\n##### Get the hardship index for the community area which has the highest value for College Enrollment"
        },
        {
            "cell_type": "code",
            "execution_count": 149,
            "metadata": {},
            "outputs": [
                {
                    "name": "stdout",
                    "output_type": "stream",
                    "text": " * ibm_db_sa://xks76134:***@dashdb-txn-sbox-yp-dal09-03.services.dal.bluemix.net:50000/BLUDB\nDone.\n"
                },
                {
                    "data": {
                        "text/html": "<table>\n    <tr>\n        <th>ca</th>\n        <th>community_area_name</th>\n        <th>hardship_index</th>\n    </tr>\n    <tr>\n        <td>5.0</td>\n        <td>North Center</td>\n        <td>6.0</td>\n    </tr>\n</table>",
                        "text/plain": "[(5.0, 'North Center', 6.0)]"
                    },
                    "execution_count": 149,
                    "metadata": {},
                    "output_type": "execute_result"
                }
            ],
            "source": "%sql select ca, community_area_name, hardship_index FROM chicago_socioeconomic_data \\\n    WHERE ca in (select community_area_number from CHICAGO_PUBLIC_SCHOOLS order by college_enrollment desc limit 1)"
        },
        {
            "cell_type": "code",
            "execution_count": null,
            "metadata": {},
            "outputs": [],
            "source": ""
        }
    ],
    "metadata": {
        "kernelspec": {
            "display_name": "Python 3.6",
            "language": "python",
            "name": "python3"
        },
        "language_info": {
            "codemirror_mode": {
                "name": "ipython",
                "version": 3
            },
            "file_extension": ".py",
            "mimetype": "text/x-python",
            "name": "python",
            "nbconvert_exporter": "python",
            "pygments_lexer": "ipython3",
            "version": "3.6.8"
        }
    },
    "nbformat": 4,
    "nbformat_minor": 1
}